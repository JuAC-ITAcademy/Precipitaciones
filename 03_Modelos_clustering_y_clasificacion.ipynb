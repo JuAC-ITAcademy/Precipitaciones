{
 "cells": [
  {
   "cell_type": "markdown",
   "id": "underlying-musical",
   "metadata": {},
   "source": [
    "### Prueba técnica - Itinerario Data Science con python.\n",
    "\n",
    "# Notebook 3. Modelos de aprendizaje no supervisado y supervisado aplicados a los datos metereológicos. "
   ]
  },
  {
   "cell_type": "markdown",
   "id": "sophisticated-blues",
   "metadata": {},
   "source": [
    "En este notebook voy a plantear dos tipos de aprendizaje automático, supervisado y no supervisado a los datos que descargamos y analizamos en el notebook anterior."
   ]
  },
  {
   "cell_type": "code",
   "execution_count": 1,
   "id": "subsequent-engineer",
   "metadata": {},
   "outputs": [],
   "source": [
    "## Librerías\n",
    "\n",
    "# Data wrangling\n",
    "#-----------------------------------------------------------------------\n",
    "import numpy as np\n",
    "import pandas as pd\n",
    "\n",
    "\n",
    "## Time series\n",
    "##----------------------------------------------------------------\n",
    "from statsmodels.tsa.seasonal import seasonal_decompose\n",
    "\n",
    "## Visualización de datos\n",
    "##----------------------------------------------------------------\n",
    "%matplotlib inline\n",
    "import matplotlib.pyplot as plt\n",
    "\n",
    "import seaborn as sns\n",
    "\n",
    "\n",
    "# MySQL conection\n",
    "#-----------------------------------------------------------------------\n",
    "import mysql.connector\n",
    "\n",
    "\n",
    "# Librerías para visualización de modelos\n",
    "#--------------------------------------------------\n",
    "from kneed import KneeLocator\n",
    "\n",
    "## Model selection\n",
    "##----------------------------------------------------------------\n",
    "from sklearn.model_selection import train_test_split\n",
    "from sklearn.model_selection import StratifiedKFold, cross_val_score \n",
    "from sklearn.feature_selection import RFECV, SelectKBest, RFE\n",
    "\n",
    "## Preprocesing\n",
    "##----------------------------------------------------------------\n",
    "from sklearn.preprocessing import StandardScaler\n",
    "\n",
    "## Linear Models\n",
    "##----------------------------------------------------------------\n",
    "from sklearn.linear_model import LogisticRegression\n",
    "from sklearn.neighbors import KNeighborsClassifier\n",
    "from sklearn.tree import DecisionTreeClassifier\n",
    "\n",
    "## Ensemble\n",
    "##----------------------------------------------------------------\n",
    "from sklearn.ensemble import RandomForestClassifier\n",
    "\n",
    "\n",
    "from sklearn.pipeline import Pipeline\n",
    "\n",
    "## Model evaluation\n",
    "##----------------------------------------------------------------\n",
    "from sklearn.metrics import f1_score, classification_report\n",
    "from sklearn.metrics import roc_auc_score, confusion_matrix\n",
    "\n",
    "\n",
    "import optuna\n",
    "\n",
    "from joblib import dump, load\n"
   ]
  },
  {
   "cell_type": "code",
   "execution_count": 2,
   "id": "ordinary-graphic",
   "metadata": {},
   "outputs": [],
   "source": [
    "# Seaborn settings\n",
    "sns.set_style(\"darkgrid\")\n",
    "sns.set_palette('RdGy')"
   ]
  },
  {
   "cell_type": "markdown",
   "id": "polar-session",
   "metadata": {},
   "source": [
    "## 1. Preparación del dataset.\n",
    "\n",
    "En primer lugar voy a cargar los datos de la base de datos MySQL y los introduciré en un dataframe, para a continuación darle formato y preprocesar el dataset. \n",
    "\n",
    "### 1.1. Carga de los datos.\n",
    "\n",
    "Cargamos los datos con la ayuda de la librería mysql.connector."
   ]
  },
  {
   "cell_type": "code",
   "execution_count": 56,
   "id": "piano-chambers",
   "metadata": {},
   "outputs": [],
   "source": [
    "# Conection with localhost \n",
    "mydb = mysql.connector.connect(\n",
    "  host='localhost',\n",
    "  user='root',\n",
    "  password='c4nionerou', \n",
    "  database='bcn_precipitaciones'\n",
    ")"
   ]
  },
  {
   "cell_type": "code",
   "execution_count": 57,
   "id": "polar-hindu",
   "metadata": {},
   "outputs": [],
   "source": [
    "# Opnening a cursor\n",
    "mycursor = mydb.cursor(dictionary=True)"
   ]
  },
  {
   "cell_type": "code",
   "execution_count": 58,
   "id": "hearing-irish",
   "metadata": {},
   "outputs": [],
   "source": [
    "# Query for extracting\n",
    "query2 = '''SELECT * \n",
    "           FROM precipitaciones'''"
   ]
  },
  {
   "cell_type": "code",
   "execution_count": 59,
   "id": "seven-package",
   "metadata": {},
   "outputs": [],
   "source": [
    "mycursor.execute(query2)"
   ]
  },
  {
   "cell_type": "code",
   "execution_count": 60,
   "id": "boxed-conjunction",
   "metadata": {},
   "outputs": [],
   "source": [
    "DATA_b = mycursor.fetchall()\n",
    "#DATA_b"
   ]
  },
  {
   "cell_type": "code",
   "execution_count": 61,
   "id": "harmful-monday",
   "metadata": {},
   "outputs": [],
   "source": [
    "DATA = pd.DataFrame(DATA_b)"
   ]
  },
  {
   "cell_type": "code",
   "execution_count": 62,
   "id": "organizational-overall",
   "metadata": {},
   "outputs": [
    {
     "data": {
      "text/plain": [
       "True"
      ]
     },
     "execution_count": 62,
     "metadata": {},
     "output_type": "execute_result"
    }
   ],
   "source": [
    "mycursor.close()"
   ]
  },
  {
   "cell_type": "code",
   "execution_count": 63,
   "id": "sacred-moses",
   "metadata": {},
   "outputs": [],
   "source": [
    "mydb.commit()"
   ]
  },
  {
   "cell_type": "markdown",
   "id": "driving-omega",
   "metadata": {},
   "source": [
    "### 1.2. Preprocesamiento del dataset."
   ]
  },
  {
   "cell_type": "markdown",
   "id": "herbal-monster",
   "metadata": {},
   "source": [
    "Antes de aplicar los modelos de aprendizaje automático tenemos que seguir los siguientes pasos:\n",
    "1. Dar formato correspondiente a cada campo.\n",
    "2. Búsqueda de duplicados.\n",
    "3. Tratamiento de valores perdidos.\n"
   ]
  },
  {
   "cell_type": "code",
   "execution_count": 11,
   "id": "equivalent-somerset",
   "metadata": {},
   "outputs": [
    {
     "data": {
      "text/html": [
       "<div>\n",
       "<style scoped>\n",
       "    .dataframe tbody tr th:only-of-type {\n",
       "        vertical-align: middle;\n",
       "    }\n",
       "\n",
       "    .dataframe tbody tr th {\n",
       "        vertical-align: top;\n",
       "    }\n",
       "\n",
       "    .dataframe thead th {\n",
       "        text-align: right;\n",
       "    }\n",
       "</style>\n",
       "<table border=\"1\" class=\"dataframe\">\n",
       "  <thead>\n",
       "    <tr style=\"text-align: right;\">\n",
       "      <th></th>\n",
       "      <th>ID</th>\n",
       "      <th>fecha</th>\n",
       "      <th>precipitacion</th>\n",
       "      <th>horas_sol</th>\n",
       "      <th>presion_max</th>\n",
       "      <th>presion_min</th>\n",
       "      <th>temperatura_min</th>\n",
       "      <th>temperatura_max</th>\n",
       "      <th>velocidad_media</th>\n",
       "    </tr>\n",
       "  </thead>\n",
       "  <tbody>\n",
       "    <tr>\n",
       "      <th>0</th>\n",
       "      <td>0</td>\n",
       "      <td>1992-01-01</td>\n",
       "      <td>0.0</td>\n",
       "      <td>6.6</td>\n",
       "      <td>1037.8</td>\n",
       "      <td>1033.6</td>\n",
       "      <td>11.6</td>\n",
       "      <td>0.3</td>\n",
       "      <td>7.92</td>\n",
       "    </tr>\n",
       "    <tr>\n",
       "      <th>1</th>\n",
       "      <td>1</td>\n",
       "      <td>1992-01-02</td>\n",
       "      <td>0.0</td>\n",
       "      <td>6.4</td>\n",
       "      <td>1038.6</td>\n",
       "      <td>1037.0</td>\n",
       "      <td>12.6</td>\n",
       "      <td>0.2</td>\n",
       "      <td>11.16</td>\n",
       "    </tr>\n",
       "    <tr>\n",
       "      <th>2</th>\n",
       "      <td>2</td>\n",
       "      <td>1992-01-03</td>\n",
       "      <td>0.3</td>\n",
       "      <td>1.0</td>\n",
       "      <td>1037.3</td>\n",
       "      <td>1032.7</td>\n",
       "      <td>12.2</td>\n",
       "      <td>2.3</td>\n",
       "      <td>7.92</td>\n",
       "    </tr>\n",
       "  </tbody>\n",
       "</table>\n",
       "</div>"
      ],
      "text/plain": [
       "   ID       fecha precipitacion horas_sol presion_max presion_min  \\\n",
       "0   0  1992-01-01           0.0       6.6      1037.8      1033.6   \n",
       "1   1  1992-01-02           0.0       6.4      1038.6      1037.0   \n",
       "2   2  1992-01-03           0.3       1.0      1037.3      1032.7   \n",
       "\n",
       "  temperatura_min temperatura_max velocidad_media  \n",
       "0            11.6             0.3            7.92  \n",
       "1            12.6             0.2           11.16  \n",
       "2            12.2             2.3            7.92  "
      ]
     },
     "execution_count": 11,
     "metadata": {},
     "output_type": "execute_result"
    }
   ],
   "source": [
    "# First lines\n",
    "DATA.head(3)"
   ]
  },
  {
   "cell_type": "code",
   "execution_count": 12,
   "id": "athletic-closer",
   "metadata": {},
   "outputs": [
    {
     "name": "stdout",
     "output_type": "stream",
     "text": [
      "<class 'pandas.core.frame.DataFrame'>\n",
      "RangeIndex: 10775 entries, 0 to 10774\n",
      "Data columns (total 9 columns):\n",
      " #   Column           Non-Null Count  Dtype \n",
      "---  ------           --------------  ----- \n",
      " 0   ID               10775 non-null  int64 \n",
      " 1   fecha            10775 non-null  object\n",
      " 2   precipitacion    10775 non-null  object\n",
      " 3   horas_sol        10775 non-null  object\n",
      " 4   presion_max      10775 non-null  object\n",
      " 5   presion_min      10775 non-null  object\n",
      " 6   temperatura_min  10775 non-null  object\n",
      " 7   temperatura_max  10775 non-null  object\n",
      " 8   velocidad_media  10775 non-null  object\n",
      "dtypes: int64(1), object(8)\n",
      "memory usage: 757.7+ KB\n"
     ]
    }
   ],
   "source": [
    "# General info \n",
    "DATA.info()"
   ]
  },
  {
   "cell_type": "code",
   "execution_count": 64,
   "id": "ready-developer",
   "metadata": {},
   "outputs": [],
   "source": [
    "# fecha to datetime\n",
    "DATA.fecha = pd.to_datetime(DATA.fecha,format='%Y-%m-%d' )"
   ]
  },
  {
   "cell_type": "code",
   "execution_count": 65,
   "id": "acceptable-manufacturer",
   "metadata": {},
   "outputs": [],
   "source": [
    "columnas = DATA.columns\n",
    "# columns to numeric\n",
    "for campo in columnas[2:]:\n",
    "    DATA[campo] = pd.to_numeric(DATA[campo])"
   ]
  },
  {
   "cell_type": "code",
   "execution_count": 66,
   "id": "hourly-episode",
   "metadata": {},
   "outputs": [
    {
     "name": "stdout",
     "output_type": "stream",
     "text": [
      "<class 'pandas.core.frame.DataFrame'>\n",
      "RangeIndex: 10775 entries, 0 to 10774\n",
      "Data columns (total 9 columns):\n",
      " #   Column           Non-Null Count  Dtype         \n",
      "---  ------           --------------  -----         \n",
      " 0   ID               10775 non-null  int64         \n",
      " 1   fecha            10775 non-null  datetime64[ns]\n",
      " 2   precipitacion    10693 non-null  float64       \n",
      " 3   horas_sol        10285 non-null  float64       \n",
      " 4   presion_max      10719 non-null  float64       \n",
      " 5   presion_min      10718 non-null  float64       \n",
      " 6   temperatura_min  10743 non-null  float64       \n",
      " 7   temperatura_max  10743 non-null  float64       \n",
      " 8   velocidad_media  10775 non-null  float64       \n",
      "dtypes: datetime64[ns](1), float64(7), int64(1)\n",
      "memory usage: 757.7 KB\n"
     ]
    }
   ],
   "source": [
    "# General info after formating features\n",
    "DATA.info()"
   ]
  },
  {
   "cell_type": "code",
   "execution_count": 67,
   "id": "cognitive-leather",
   "metadata": {},
   "outputs": [
    {
     "data": {
      "text/plain": [
       "ID                 0.0\n",
       "precipitacion      0.0\n",
       "horas_sol          0.0\n",
       "presion_max        0.0\n",
       "presion_min        0.0\n",
       "temperatura_min    0.0\n",
       "temperatura_max    0.0\n",
       "velocidad_media    0.0\n",
       "dtype: float64"
      ]
     },
     "execution_count": 67,
     "metadata": {},
     "output_type": "execute_result"
    }
   ],
   "source": [
    "# Duplicated rows\n",
    "DATA[DATA.duplicated()].sum()"
   ]
  },
  {
   "cell_type": "code",
   "execution_count": 69,
   "id": "married-violin",
   "metadata": {},
   "outputs": [
    {
     "data": {
      "text/plain": [
       "ID                 0.00\n",
       "fecha              0.00\n",
       "precipitacion      0.76\n",
       "horas_sol          4.55\n",
       "presion_max        0.52\n",
       "presion_min        0.53\n",
       "temperatura_min    0.30\n",
       "temperatura_max    0.30\n",
       "velocidad_media    0.00\n",
       "dtype: float64"
      ]
     },
     "execution_count": 69,
     "metadata": {},
     "output_type": "execute_result"
    }
   ],
   "source": [
    "# Total percentage missing values \n",
    "(DATA.isna().sum()/DATA.shape[0]*100).round(2)"
   ]
  },
  {
   "cell_type": "markdown",
   "id": "irish-counter",
   "metadata": {},
   "source": [
    "El porcentage de valores perdidos es en general inferior al 1% salvo en la variable horas de sol. Para tratar los valores perdidos voy a utilizar el siguiente enfoque:\n",
    "- __precipitación__: como se trata de la variable objetivo y tenemos menos de un 1%, estos valores perdidos los voy a eliminar.\n",
    "\n",
    "- __Resto de variables__: En este caso voy a interpolar los valores nulos, entender que el valor diario estará muy cerca del promedio de los días anterior y posterior.\n",
    "\n",
    "\n"
   ]
  },
  {
   "cell_type": "code",
   "execution_count": 70,
   "id": "working-transparency",
   "metadata": {},
   "outputs": [],
   "source": [
    "# Dropping Missing values for target precipitacion\n",
    "DATA.dropna(axis=0,\n",
    "            subset=['precipitacion'], \n",
    "            inplace=True)"
   ]
  },
  {
   "cell_type": "code",
   "execution_count": 71,
   "id": "accepted-vegetarian",
   "metadata": {},
   "outputs": [],
   "source": [
    "# Interpolating missing values for the other features\n",
    "DATA.interpolate(inplace=True)"
   ]
  },
  {
   "cell_type": "markdown",
   "id": "removed-consortium",
   "metadata": {},
   "source": [
    "### 1.3. Nuevas variables."
   ]
  },
  {
   "cell_type": "code",
   "execution_count": 72,
   "id": "ongoing-arabic",
   "metadata": {},
   "outputs": [],
   "source": [
    "# New feature mes\n",
    "DATA['mes'] = DATA.fecha.dt.month\n",
    "\n",
    "# New feature año\n",
    "DATA['anio'] = DATA.fecha.dt.year\n"
   ]
  },
  {
   "cell_type": "markdown",
   "id": "waiting-sport",
   "metadata": {},
   "source": [
    "## 2. Aprendizaje no supervisado. Clustering.\n",
    "\n",
    "En este apartado voy a aplicar un modelo de aprendizaje no supervisado para obtener agrupaciones de observaciones con objeto de encontrar algún patrón que no sea fácilmente visible."
   ]
  },
  {
   "cell_type": "code",
   "execution_count": 23,
   "id": "caroline-fireplace",
   "metadata": {},
   "outputs": [
    {
     "name": "stdout",
     "output_type": "stream",
     "text": [
      "<class 'pandas.core.frame.DataFrame'>\n",
      "Int64Index: 10693 entries, 0 to 10774\n",
      "Data columns (total 11 columns):\n",
      " #   Column           Non-Null Count  Dtype         \n",
      "---  ------           --------------  -----         \n",
      " 0   ID               10693 non-null  int64         \n",
      " 1   fecha            10693 non-null  datetime64[ns]\n",
      " 2   precipitacion    10693 non-null  float64       \n",
      " 3   horas_sol        10693 non-null  float64       \n",
      " 4   presion_max      10693 non-null  float64       \n",
      " 5   presion_min      10693 non-null  float64       \n",
      " 6   temperatura_min  10693 non-null  float64       \n",
      " 7   temperatura_max  10693 non-null  float64       \n",
      " 8   velocidad_media  10693 non-null  float64       \n",
      " 9   mes              10693 non-null  int64         \n",
      " 10  anio             10693 non-null  int64         \n",
      "dtypes: datetime64[ns](1), float64(7), int64(3)\n",
      "memory usage: 1002.5 KB\n"
     ]
    }
   ],
   "source": [
    "DATA.info()"
   ]
  },
  {
   "cell_type": "code",
   "execution_count": 24,
   "id": "registered-burning",
   "metadata": {},
   "outputs": [],
   "source": [
    "# Data Preprocessing\n",
    "#--------------------------------------------------\n",
    "from sklearn.impute import SimpleImputer\n",
    "from sklearn.preprocessing import StandardScaler\n",
    "\n",
    "from sklearn.compose import ColumnTransformer\n",
    "\n",
    "# Clustering\n",
    "#--------------------------------------------------\n",
    "from sklearn.cluster import KMeans, AgglomerativeClustering, DBSCAN\n",
    "from sklearn.mixture import GaussianMixture\n",
    "\n",
    "# Metrics\n",
    "#--------------------------------------------------\n",
    "from sklearn.metrics import silhouette_score\n",
    "\n",
    "from sklearn.pipeline import Pipeline\n"
   ]
  },
  {
   "cell_type": "markdown",
   "id": "ideal-thickness",
   "metadata": {},
   "source": [
    "### 3.1. K-Means sin variables temporales.\n",
    "\n",
    "Aplicaremos el algoritmo K-Means incluyendo solo las variables derivadas de la climatología, presiones, temperaturas, horas de sol y viento."
   ]
  },
  {
   "cell_type": "code",
   "execution_count": 76,
   "id": "respected-spirit",
   "metadata": {},
   "outputs": [],
   "source": [
    "DATA.set_index('fecha', inplace=True)"
   ]
  },
  {
   "cell_type": "code",
   "execution_count": 77,
   "id": "medical-elephant",
   "metadata": {},
   "outputs": [],
   "source": [
    "DATA.drop(columns=['mes', 'anio', 'ID'], inplace=True)"
   ]
  },
  {
   "cell_type": "code",
   "execution_count": 37,
   "id": "general-landing",
   "metadata": {},
   "outputs": [],
   "source": [
    "Scaler=StandardScaler()\n",
    "X_tr = Scaler.fit_transform(DATA)\n",
    "#----------------------------------------------------------------\n",
    "\n",
    "# Lista con la inercia según k\n",
    "sse=[]\n",
    "\n",
    "# Lista con el score silhouette coef.\n",
    "sil_coeficient=[]\n",
    "\n",
    "#----------------------------------------------------------------\n",
    "\n",
    "\n",
    "for k in range(2,30):\n",
    "    # Pipeline - Primer paso estandarizar / segundo paso Kmeans\n",
    "    C_Kmean=Pipeline(steps=[('Estandarizar',StandardScaler()),\n",
    "                            ('Cluster',KMeans(n_clusters=k,random_state=1987))])\n",
    "\n",
    "    # Ajuste declustering Kmeans (k)\n",
    "    C_Kmean.fit(DATA)\n",
    "    \n",
    "    # Inercia y lista con valores de inercia ordenado de k=2 a K=n\n",
    "    inertia=C_Kmean[1].inertia_\n",
    "    sse.append(inertia)\n",
    "    \n",
    "    # Silhouette score para cada k\n",
    "    labels=C_Kmean[1].labels_\n",
    "    sil=silhouette_score(X_tr, \n",
    "                         labels,\n",
    "                         #sample_size=80000,random_state=1984\n",
    "                        )\n",
    "    sil_coeficient.append(sil)\n",
    "    "
   ]
  },
  {
   "cell_type": "code",
   "execution_count": 38,
   "id": "exciting-immigration",
   "metadata": {},
   "outputs": [
    {
     "data": {
      "text/plain": [
       "8"
      ]
     },
     "execution_count": 38,
     "metadata": {},
     "output_type": "execute_result"
    }
   ],
   "source": [
    "kl=KneeLocator(range(2,30),sse,curve='convex',direction='decreasing')\n",
    "kl.elbow"
   ]
  },
  {
   "cell_type": "code",
   "execution_count": 39,
   "id": "virtual-charity",
   "metadata": {},
   "outputs": [
    {
     "data": {
      "image/png": "[encoded data removed]",
      "text/plain": [
       "<Figure size 576x288 with 1 Axes>"
      ]
     },
     "metadata": {},
     "output_type": "display_data"
    }
   ],
   "source": [
    "kl.plot_knee(figsize=(8,4))"
   ]
  },
  {
   "cell_type": "code",
   "execution_count": 40,
   "id": "supported-while",
   "metadata": {},
   "outputs": [
    {
     "data": {
      "image/png": "[encoded data removed]",
      "text/plain": [
       "<Figure size 432x288 with 1 Axes>"
      ]
     },
     "metadata": {},
     "output_type": "display_data"
    }
   ],
   "source": [
    "plt.plot(range(2, 30), sil_coeficient)\n",
    "plt.xticks(range(1, 30))\n",
    "plt.xlabel(\"Number of Clusters\")\n",
    "plt.ylabel(\"Silhouette_score\")\n",
    "plt.show()"
   ]
  },
  {
   "cell_type": "markdown",
   "id": "packed-audit",
   "metadata": {},
   "source": [
    "El método del codo me devuelve un valor óptimo de 8 clusters y silhouette score nos da un máximo de 0.3 con 4 clusters. "
   ]
  },
  {
   "cell_type": "code",
   "execution_count": 41,
   "id": "applicable-terry",
   "metadata": {},
   "outputs": [],
   "source": [
    "# KMeans for k = 4\n",
    "C_Kmean4 = Pipeline(steps=[('Estandarizar',StandardScaler()),\n",
    "                           ('Cluster',KMeans(n_clusters=4,random_state=1987))])\n",
    "\n",
    "DATA_c4 = C_Kmean4.fit(DATA)\n"
   ]
  },
  {
   "cell_type": "markdown",
   "id": "large-vinyl",
   "metadata": {},
   "source": [
    "### 3.2. KMeans con valores de mes y año.\n",
    "\n",
    "Veamos si mejora el silhouete score con dos variables adicionales. Año y mes."
   ]
  },
  {
   "cell_type": "code",
   "execution_count": 78,
   "id": "pointed-baseline",
   "metadata": {},
   "outputs": [],
   "source": [
    "DATA.reset_index(inplace=True)\n",
    "\n",
    "# New feature mes\n",
    "DATA['mes'] = DATA.fecha.dt.month\n",
    "\n",
    "# New feature año\n",
    "DATA['anio'] = DATA.fecha.dt.year\n",
    "\n",
    "DATA.set_index('fecha',inplace=True)"
   ]
  },
  {
   "cell_type": "code",
   "execution_count": 44,
   "id": "intimate-hartford",
   "metadata": {},
   "outputs": [],
   "source": [
    "Scaler=StandardScaler()\n",
    "X_tr = Scaler.fit_transform(DATA)\n",
    "#----------------------------------------------------------------\n",
    "\n",
    "# Lista con la inercia según k\n",
    "sse=[]\n",
    "\n",
    "# Lista con el score silhouette coef.\n",
    "sil_coeficient=[]\n",
    "\n",
    "#----------------------------------------------------------------\n",
    "\n",
    "\n",
    "for k in range(2,30):\n",
    "    # Pipeline - Primer paso estandarizar / segundo paso Kmeans\n",
    "    C_Kmean=Pipeline(steps=[('Estandarizar',StandardScaler()),\n",
    "                            ('Cluster',KMeans(n_clusters=k,random_state=1987))])\n",
    "\n",
    "    # Ajuste declustering Kmeans (k)\n",
    "    C_Kmean.fit(DATA)\n",
    "    \n",
    "    # Inercia y lista con valores de inercia ordenado de k=2 a K=n\n",
    "    inertia=C_Kmean[1].inertia_\n",
    "    sse.append(inertia)\n",
    "    \n",
    "    # Silhouette score para cada k\n",
    "    labels=C_Kmean[1].labels_\n",
    "    sil=silhouette_score(X_tr, \n",
    "                         labels,\n",
    "                         #sample_size=80000,random_state=1984\n",
    "                        )\n",
    "    sil_coeficient.append(sil)\n",
    "    "
   ]
  },
  {
   "cell_type": "code",
   "execution_count": 45,
   "id": "auburn-honey",
   "metadata": {},
   "outputs": [
    {
     "data": {
      "image/png": "[encoded data removed]",
      "text/plain": [
       "<Figure size 432x288 with 1 Axes>"
      ]
     },
     "metadata": {},
     "output_type": "display_data"
    }
   ],
   "source": [
    "plt.plot(range(2, 30), sil_coeficient)\n",
    "plt.xticks(range(1, 30))\n",
    "plt.xlabel(\"Number of Clusters\")\n",
    "plt.ylabel(\"Silhouette_score\")\n",
    "plt.show()"
   ]
  },
  {
   "cell_type": "markdown",
   "id": "christian-favor",
   "metadata": {},
   "source": [
    "En este segundo caso silhouete score queda en torno a 0.24 con 5 clusters. Por lo que los grupos son algo más cohesionados en el primer caso."
   ]
  },
  {
   "cell_type": "markdown",
   "id": "loose-secretariat",
   "metadata": {},
   "source": [
    "### 3.3. Análisis de los clústers obtenidos con KMeans."
   ]
  },
  {
   "cell_type": "markdown",
   "id": "given-painting",
   "metadata": {},
   "source": [
    "Vamos a analizar los grupos que nos propone el algoritmo KMeans, para ver que similitudes ha encontrado. Para ello, cargo las etiquetas de los clusters del modelo obtenido en el punto 3.1."
   ]
  },
  {
   "cell_type": "code",
   "execution_count": 79,
   "id": "happy-indonesia",
   "metadata": {},
   "outputs": [],
   "source": [
    "# Labels for clusters\n",
    "DATA['cluster'] = DATA_c4[1].labels_"
   ]
  },
  {
   "cell_type": "code",
   "execution_count": 47,
   "id": "premier-restaurant",
   "metadata": {},
   "outputs": [],
   "source": [
    "pd.options.display.max_columns=72\n",
    "pd.options.display.max_rows=72"
   ]
  },
  {
   "cell_type": "code",
   "execution_count": 48,
   "id": "weekly-patch",
   "metadata": {},
   "outputs": [
    {
     "data": {
      "text/html": [
       "<div>\n",
       "<style scoped>\n",
       "    .dataframe tbody tr th:only-of-type {\n",
       "        vertical-align: middle;\n",
       "    }\n",
       "\n",
       "    .dataframe tbody tr th {\n",
       "        vertical-align: top;\n",
       "    }\n",
       "\n",
       "    .dataframe thead th {\n",
       "        text-align: right;\n",
       "    }\n",
       "</style>\n",
       "<table border=\"1\" class=\"dataframe\">\n",
       "  <thead>\n",
       "    <tr style=\"text-align: right;\">\n",
       "      <th></th>\n",
       "      <th>cluster</th>\n",
       "      <th>0</th>\n",
       "      <th>1</th>\n",
       "      <th>2</th>\n",
       "      <th>3</th>\n",
       "    </tr>\n",
       "  </thead>\n",
       "  <tbody>\n",
       "    <tr>\n",
       "      <th rowspan=\"8\" valign=\"top\">precipitacion</th>\n",
       "      <th>count</th>\n",
       "      <td>4597.000000</td>\n",
       "      <td>2574.000000</td>\n",
       "      <td>3292.000000</td>\n",
       "      <td>230.000000</td>\n",
       "    </tr>\n",
       "    <tr>\n",
       "      <th>mean</th>\n",
       "      <td>0.472613</td>\n",
       "      <td>1.742813</td>\n",
       "      <td>0.337667</td>\n",
       "      <td>36.824348</td>\n",
       "    </tr>\n",
       "    <tr>\n",
       "      <th>std</th>\n",
       "      <td>2.076946</td>\n",
       "      <td>3.736028</td>\n",
       "      <td>1.672129</td>\n",
       "      <td>18.990058</td>\n",
       "    </tr>\n",
       "    <tr>\n",
       "      <th>min</th>\n",
       "      <td>0.000000</td>\n",
       "      <td>0.000000</td>\n",
       "      <td>0.000000</td>\n",
       "      <td>15.900000</td>\n",
       "    </tr>\n",
       "    <tr>\n",
       "      <th>25%</th>\n",
       "      <td>0.000000</td>\n",
       "      <td>0.000000</td>\n",
       "      <td>0.000000</td>\n",
       "      <td>23.725000</td>\n",
       "    </tr>\n",
       "    <tr>\n",
       "      <th>50%</th>\n",
       "      <td>0.000000</td>\n",
       "      <td>0.000000</td>\n",
       "      <td>0.000000</td>\n",
       "      <td>30.700000</td>\n",
       "    </tr>\n",
       "    <tr>\n",
       "      <th>75%</th>\n",
       "      <td>0.000000</td>\n",
       "      <td>1.300000</td>\n",
       "      <td>0.000000</td>\n",
       "      <td>43.975000</td>\n",
       "    </tr>\n",
       "    <tr>\n",
       "      <th>max</th>\n",
       "      <td>25.800000</td>\n",
       "      <td>21.200000</td>\n",
       "      <td>22.200000</td>\n",
       "      <td>134.700000</td>\n",
       "    </tr>\n",
       "    <tr>\n",
       "      <th rowspan=\"8\" valign=\"top\">horas_sol</th>\n",
       "      <th>count</th>\n",
       "      <td>4597.000000</td>\n",
       "      <td>2574.000000</td>\n",
       "      <td>3292.000000</td>\n",
       "      <td>230.000000</td>\n",
       "    </tr>\n",
       "    <tr>\n",
       "      <th>mean</th>\n",
       "      <td>8.888827</td>\n",
       "      <td>4.269634</td>\n",
       "      <td>5.918644</td>\n",
       "      <td>2.257815</td>\n",
       "    </tr>\n",
       "    <tr>\n",
       "      <th>std</th>\n",
       "      <td>2.822592</td>\n",
       "      <td>3.366551</td>\n",
       "      <td>3.262226</td>\n",
       "      <td>3.126471</td>\n",
       "    </tr>\n",
       "    <tr>\n",
       "      <th>min</th>\n",
       "      <td>0.000000</td>\n",
       "      <td>0.000000</td>\n",
       "      <td>0.000000</td>\n",
       "      <td>0.000000</td>\n",
       "    </tr>\n",
       "    <tr>\n",
       "      <th>25%</th>\n",
       "      <td>7.400000</td>\n",
       "      <td>1.100000</td>\n",
       "      <td>3.500000</td>\n",
       "      <td>0.000000</td>\n",
       "    </tr>\n",
       "    <tr>\n",
       "      <th>50%</th>\n",
       "      <td>9.700000</td>\n",
       "      <td>4.000000</td>\n",
       "      <td>6.300000</td>\n",
       "      <td>0.500000</td>\n",
       "    </tr>\n",
       "    <tr>\n",
       "      <th>75%</th>\n",
       "      <td>11.000000</td>\n",
       "      <td>7.000000</td>\n",
       "      <td>8.400000</td>\n",
       "      <td>3.800000</td>\n",
       "    </tr>\n",
       "    <tr>\n",
       "      <th>max</th>\n",
       "      <td>13.700000</td>\n",
       "      <td>13.100000</td>\n",
       "      <td>12.700000</td>\n",
       "      <td>11.100000</td>\n",
       "    </tr>\n",
       "    <tr>\n",
       "      <th rowspan=\"8\" valign=\"top\">presion_max</th>\n",
       "      <th>count</th>\n",
       "      <td>4597.000000</td>\n",
       "      <td>2574.000000</td>\n",
       "      <td>3292.000000</td>\n",
       "      <td>230.000000</td>\n",
       "    </tr>\n",
       "    <tr>\n",
       "      <th>mean</th>\n",
       "      <td>1017.949804</td>\n",
       "      <td>1012.553932</td>\n",
       "      <td>1025.115785</td>\n",
       "      <td>1014.268538</td>\n",
       "    </tr>\n",
       "    <tr>\n",
       "      <th>std</th>\n",
       "      <td>3.342938</td>\n",
       "      <td>4.996665</td>\n",
       "      <td>4.430621</td>\n",
       "      <td>5.426723</td>\n",
       "    </tr>\n",
       "    <tr>\n",
       "      <th>min</th>\n",
       "      <td>1005.000000</td>\n",
       "      <td>989.900000</td>\n",
       "      <td>1015.600000</td>\n",
       "      <td>999.200000</td>\n",
       "    </tr>\n",
       "    <tr>\n",
       "      <th>25%</th>\n",
       "      <td>1015.800000</td>\n",
       "      <td>1009.600000</td>\n",
       "      <td>1021.700000</td>\n",
       "      <td>1010.725000</td>\n",
       "    </tr>\n",
       "    <tr>\n",
       "      <th>50%</th>\n",
       "      <td>1018.000000</td>\n",
       "      <td>1013.300000</td>\n",
       "      <td>1024.600000</td>\n",
       "      <td>1014.200000</td>\n",
       "    </tr>\n",
       "    <tr>\n",
       "      <th>75%</th>\n",
       "      <td>1020.200000</td>\n",
       "      <td>1016.200000</td>\n",
       "      <td>1028.200000</td>\n",
       "      <td>1017.875000</td>\n",
       "    </tr>\n",
       "    <tr>\n",
       "      <th>max</th>\n",
       "      <td>1031.300000</td>\n",
       "      <td>1028.400000</td>\n",
       "      <td>1040.900000</td>\n",
       "      <td>1027.263636</td>\n",
       "    </tr>\n",
       "    <tr>\n",
       "      <th rowspan=\"8\" valign=\"top\">presion_min</th>\n",
       "      <th>count</th>\n",
       "      <td>4597.000000</td>\n",
       "      <td>2574.000000</td>\n",
       "      <td>3292.000000</td>\n",
       "      <td>230.000000</td>\n",
       "    </tr>\n",
       "    <tr>\n",
       "      <th>mean</th>\n",
       "      <td>1014.359996</td>\n",
       "      <td>1006.210570</td>\n",
       "      <td>1020.675825</td>\n",
       "      <td>1008.493597</td>\n",
       "    </tr>\n",
       "    <tr>\n",
       "      <th>std</th>\n",
       "      <td>3.776616</td>\n",
       "      <td>5.728558</td>\n",
       "      <td>4.901264</td>\n",
       "      <td>6.659993</td>\n",
       "    </tr>\n",
       "    <tr>\n",
       "      <th>min</th>\n",
       "      <td>998.900000</td>\n",
       "      <td>979.400000</td>\n",
       "      <td>1006.800000</td>\n",
       "      <td>986.200000</td>\n",
       "    </tr>\n",
       "    <tr>\n",
       "      <th>25%</th>\n",
       "      <td>1011.900000</td>\n",
       "      <td>1002.900000</td>\n",
       "      <td>1016.900000</td>\n",
       "      <td>1004.525000</td>\n",
       "    </tr>\n",
       "    <tr>\n",
       "      <th>50%</th>\n",
       "      <td>1014.500000</td>\n",
       "      <td>1007.200000</td>\n",
       "      <td>1020.200000</td>\n",
       "      <td>1008.850000</td>\n",
       "    </tr>\n",
       "    <tr>\n",
       "      <th>75%</th>\n",
       "      <td>1016.900000</td>\n",
       "      <td>1010.600000</td>\n",
       "      <td>1023.900000</td>\n",
       "      <td>1012.950000</td>\n",
       "    </tr>\n",
       "    <tr>\n",
       "      <th>max</th>\n",
       "      <td>1027.500000</td>\n",
       "      <td>1019.300000</td>\n",
       "      <td>1037.000000</td>\n",
       "      <td>1022.800000</td>\n",
       "    </tr>\n",
       "    <tr>\n",
       "      <th rowspan=\"8\" valign=\"top\">temperatura_min</th>\n",
       "      <th>count</th>\n",
       "      <td>4597.000000</td>\n",
       "      <td>2574.000000</td>\n",
       "      <td>3292.000000</td>\n",
       "      <td>230.000000</td>\n",
       "    </tr>\n",
       "    <tr>\n",
       "      <th>mean</th>\n",
       "      <td>26.279987</td>\n",
       "      <td>17.082343</td>\n",
       "      <td>16.079800</td>\n",
       "      <td>19.616739</td>\n",
       "    </tr>\n",
       "    <tr>\n",
       "      <th>std</th>\n",
       "      <td>3.190030</td>\n",
       "      <td>3.659673</td>\n",
       "      <td>3.091593</td>\n",
       "      <td>5.795288</td>\n",
       "    </tr>\n",
       "    <tr>\n",
       "      <th>min</th>\n",
       "      <td>17.500000</td>\n",
       "      <td>3.600000</td>\n",
       "      <td>3.400000</td>\n",
       "      <td>2.700000</td>\n",
       "    </tr>\n",
       "    <tr>\n",
       "      <th>25%</th>\n",
       "      <td>23.900000</td>\n",
       "      <td>14.600000</td>\n",
       "      <td>14.100000</td>\n",
       "      <td>15.050000</td>\n",
       "    </tr>\n",
       "    <tr>\n",
       "      <th>50%</th>\n",
       "      <td>26.400000</td>\n",
       "      <td>17.200000</td>\n",
       "      <td>16.000000</td>\n",
       "      <td>19.700000</td>\n",
       "    </tr>\n",
       "    <tr>\n",
       "      <th>75%</th>\n",
       "      <td>28.700000</td>\n",
       "      <td>19.700000</td>\n",
       "      <td>18.000000</td>\n",
       "      <td>24.275000</td>\n",
       "    </tr>\n",
       "    <tr>\n",
       "      <th>max</th>\n",
       "      <td>37.400000</td>\n",
       "      <td>27.900000</td>\n",
       "      <td>25.100000</td>\n",
       "      <td>30.500000</td>\n",
       "    </tr>\n",
       "    <tr>\n",
       "      <th rowspan=\"8\" valign=\"top\">temperatura_max</th>\n",
       "      <th>count</th>\n",
       "      <td>4597.000000</td>\n",
       "      <td>2574.000000</td>\n",
       "      <td>3292.000000</td>\n",
       "      <td>230.000000</td>\n",
       "    </tr>\n",
       "    <tr>\n",
       "      <th>mean</th>\n",
       "      <td>18.409941</td>\n",
       "      <td>9.411772</td>\n",
       "      <td>7.397296</td>\n",
       "      <td>13.390870</td>\n",
       "    </tr>\n",
       "    <tr>\n",
       "      <th>std</th>\n",
       "      <td>3.507407</td>\n",
       "      <td>3.914082</td>\n",
       "      <td>3.504903</td>\n",
       "      <td>5.011502</td>\n",
       "    </tr>\n",
       "    <tr>\n",
       "      <th>min</th>\n",
       "      <td>7.400000</td>\n",
       "      <td>-2.200000</td>\n",
       "      <td>-3.600000</td>\n",
       "      <td>-0.200000</td>\n",
       "    </tr>\n",
       "    <tr>\n",
       "      <th>25%</th>\n",
       "      <td>16.000000</td>\n",
       "      <td>6.800000</td>\n",
       "      <td>5.000000</td>\n",
       "      <td>10.000000</td>\n",
       "    </tr>\n",
       "    <tr>\n",
       "      <th>50%</th>\n",
       "      <td>18.700000</td>\n",
       "      <td>9.400000</td>\n",
       "      <td>7.400000</td>\n",
       "      <td>13.750000</td>\n",
       "    </tr>\n",
       "    <tr>\n",
       "      <th>75%</th>\n",
       "      <td>21.200000</td>\n",
       "      <td>12.200000</td>\n",
       "      <td>9.700000</td>\n",
       "      <td>17.075000</td>\n",
       "    </tr>\n",
       "    <tr>\n",
       "      <th>max</th>\n",
       "      <td>27.300000</td>\n",
       "      <td>21.100000</td>\n",
       "      <td>20.500000</td>\n",
       "      <td>24.200000</td>\n",
       "    </tr>\n",
       "    <tr>\n",
       "      <th rowspan=\"8\" valign=\"top\">velocidad_media</th>\n",
       "      <th>count</th>\n",
       "      <td>4597.000000</td>\n",
       "      <td>2574.000000</td>\n",
       "      <td>3292.000000</td>\n",
       "      <td>230.000000</td>\n",
       "    </tr>\n",
       "    <tr>\n",
       "      <th>mean</th>\n",
       "      <td>15.215541</td>\n",
       "      <td>16.522657</td>\n",
       "      <td>13.910413</td>\n",
       "      <td>19.189565</td>\n",
       "    </tr>\n",
       "    <tr>\n",
       "      <th>std</th>\n",
       "      <td>4.444163</td>\n",
       "      <td>6.669296</td>\n",
       "      <td>4.893052</td>\n",
       "      <td>10.267208</td>\n",
       "    </tr>\n",
       "    <tr>\n",
       "      <th>min</th>\n",
       "      <td>0.000000</td>\n",
       "      <td>0.000000</td>\n",
       "      <td>0.000000</td>\n",
       "      <td>0.000000</td>\n",
       "    </tr>\n",
       "    <tr>\n",
       "      <th>25%</th>\n",
       "      <td>11.880000</td>\n",
       "      <td>11.880000</td>\n",
       "      <td>11.160000</td>\n",
       "      <td>11.880000</td>\n",
       "    </tr>\n",
       "    <tr>\n",
       "      <th>50%</th>\n",
       "      <td>15.120000</td>\n",
       "      <td>15.120000</td>\n",
       "      <td>12.960000</td>\n",
       "      <td>16.920000</td>\n",
       "    </tr>\n",
       "    <tr>\n",
       "      <th>75%</th>\n",
       "      <td>18.000000</td>\n",
       "      <td>20.160000</td>\n",
       "      <td>16.920000</td>\n",
       "      <td>23.040000</td>\n",
       "    </tr>\n",
       "    <tr>\n",
       "      <th>max</th>\n",
       "      <td>37.080000</td>\n",
       "      <td>51.120000</td>\n",
       "      <td>42.120000</td>\n",
       "      <td>68.040000</td>\n",
       "    </tr>\n",
       "    <tr>\n",
       "      <th rowspan=\"8\" valign=\"top\">mes</th>\n",
       "      <th>count</th>\n",
       "      <td>4597.000000</td>\n",
       "      <td>2574.000000</td>\n",
       "      <td>3292.000000</td>\n",
       "      <td>230.000000</td>\n",
       "    </tr>\n",
       "    <tr>\n",
       "      <th>mean</th>\n",
       "      <td>7.240809</td>\n",
       "      <td>5.998057</td>\n",
       "      <td>5.717497</td>\n",
       "      <td>7.334783</td>\n",
       "    </tr>\n",
       "    <tr>\n",
       "      <th>std</th>\n",
       "      <td>1.700255</td>\n",
       "      <td>3.931348</td>\n",
       "      <td>4.448540</td>\n",
       "      <td>3.255645</td>\n",
       "    </tr>\n",
       "    <tr>\n",
       "      <th>min</th>\n",
       "      <td>1.000000</td>\n",
       "      <td>1.000000</td>\n",
       "      <td>1.000000</td>\n",
       "      <td>1.000000</td>\n",
       "    </tr>\n",
       "    <tr>\n",
       "      <th>25%</th>\n",
       "      <td>6.000000</td>\n",
       "      <td>3.000000</td>\n",
       "      <td>2.000000</td>\n",
       "      <td>4.250000</td>\n",
       "    </tr>\n",
       "    <tr>\n",
       "      <th>50%</th>\n",
       "      <td>7.000000</td>\n",
       "      <td>4.000000</td>\n",
       "      <td>3.000000</td>\n",
       "      <td>8.000000</td>\n",
       "    </tr>\n",
       "    <tr>\n",
       "      <th>75%</th>\n",
       "      <td>9.000000</td>\n",
       "      <td>11.000000</td>\n",
       "      <td>11.000000</td>\n",
       "      <td>10.000000</td>\n",
       "    </tr>\n",
       "    <tr>\n",
       "      <th>max</th>\n",
       "      <td>11.000000</td>\n",
       "      <td>12.000000</td>\n",
       "      <td>12.000000</td>\n",
       "      <td>12.000000</td>\n",
       "    </tr>\n",
       "    <tr>\n",
       "      <th rowspan=\"8\" valign=\"top\">anio</th>\n",
       "      <th>count</th>\n",
       "      <td>4597.000000</td>\n",
       "      <td>2574.000000</td>\n",
       "      <td>3292.000000</td>\n",
       "      <td>230.000000</td>\n",
       "    </tr>\n",
       "    <tr>\n",
       "      <th>mean</th>\n",
       "      <td>2006.559930</td>\n",
       "      <td>2006.320124</td>\n",
       "      <td>2005.676488</td>\n",
       "      <td>2006.165217</td>\n",
       "    </tr>\n",
       "    <tr>\n",
       "      <th>std</th>\n",
       "      <td>8.364529</td>\n",
       "      <td>8.550443</td>\n",
       "      <td>8.726446</td>\n",
       "      <td>8.916821</td>\n",
       "    </tr>\n",
       "    <tr>\n",
       "      <th>min</th>\n",
       "      <td>1992.000000</td>\n",
       "      <td>1992.000000</td>\n",
       "      <td>1992.000000</td>\n",
       "      <td>1992.000000</td>\n",
       "    </tr>\n",
       "    <tr>\n",
       "      <th>25%</th>\n",
       "      <td>1999.000000</td>\n",
       "      <td>1999.000000</td>\n",
       "      <td>1998.000000</td>\n",
       "      <td>1998.000000</td>\n",
       "    </tr>\n",
       "    <tr>\n",
       "      <th>50%</th>\n",
       "      <td>2007.000000</td>\n",
       "      <td>2007.000000</td>\n",
       "      <td>2005.000000</td>\n",
       "      <td>2005.000000</td>\n",
       "    </tr>\n",
       "    <tr>\n",
       "      <th>75%</th>\n",
       "      <td>2014.000000</td>\n",
       "      <td>2014.000000</td>\n",
       "      <td>2013.000000</td>\n",
       "      <td>2013.000000</td>\n",
       "    </tr>\n",
       "    <tr>\n",
       "      <th>max</th>\n",
       "      <td>2021.000000</td>\n",
       "      <td>2021.000000</td>\n",
       "      <td>2021.000000</td>\n",
       "      <td>2021.000000</td>\n",
       "    </tr>\n",
       "  </tbody>\n",
       "</table>\n",
       "</div>"
      ],
      "text/plain": [
       "cluster                          0            1            2            3\n",
       "precipitacion   count  4597.000000  2574.000000  3292.000000   230.000000\n",
       "                mean      0.472613     1.742813     0.337667    36.824348\n",
       "                std       2.076946     3.736028     1.672129    18.990058\n",
       "                min       0.000000     0.000000     0.000000    15.900000\n",
       "                25%       0.000000     0.000000     0.000000    23.725000\n",
       "                50%       0.000000     0.000000     0.000000    30.700000\n",
       "                75%       0.000000     1.300000     0.000000    43.975000\n",
       "                max      25.800000    21.200000    22.200000   134.700000\n",
       "horas_sol       count  4597.000000  2574.000000  3292.000000   230.000000\n",
       "                mean      8.888827     4.269634     5.918644     2.257815\n",
       "                std       2.822592     3.366551     3.262226     3.126471\n",
       "                min       0.000000     0.000000     0.000000     0.000000\n",
       "                25%       7.400000     1.100000     3.500000     0.000000\n",
       "                50%       9.700000     4.000000     6.300000     0.500000\n",
       "                75%      11.000000     7.000000     8.400000     3.800000\n",
       "                max      13.700000    13.100000    12.700000    11.100000\n",
       "presion_max     count  4597.000000  2574.000000  3292.000000   230.000000\n",
       "                mean   1017.949804  1012.553932  1025.115785  1014.268538\n",
       "                std       3.342938     4.996665     4.430621     5.426723\n",
       "                min    1005.000000   989.900000  1015.600000   999.200000\n",
       "                25%    1015.800000  1009.600000  1021.700000  1010.725000\n",
       "                50%    1018.000000  1013.300000  1024.600000  1014.200000\n",
       "                75%    1020.200000  1016.200000  1028.200000  1017.875000\n",
       "                max    1031.300000  1028.400000  1040.900000  1027.263636\n",
       "presion_min     count  4597.000000  2574.000000  3292.000000   230.000000\n",
       "                mean   1014.359996  1006.210570  1020.675825  1008.493597\n",
       "                std       3.776616     5.728558     4.901264     6.659993\n",
       "                min     998.900000   979.400000  1006.800000   986.200000\n",
       "                25%    1011.900000  1002.900000  1016.900000  1004.525000\n",
       "                50%    1014.500000  1007.200000  1020.200000  1008.850000\n",
       "                75%    1016.900000  1010.600000  1023.900000  1012.950000\n",
       "                max    1027.500000  1019.300000  1037.000000  1022.800000\n",
       "temperatura_min count  4597.000000  2574.000000  3292.000000   230.000000\n",
       "                mean     26.279987    17.082343    16.079800    19.616739\n",
       "                std       3.190030     3.659673     3.091593     5.795288\n",
       "                min      17.500000     3.600000     3.400000     2.700000\n",
       "                25%      23.900000    14.600000    14.100000    15.050000\n",
       "                50%      26.400000    17.200000    16.000000    19.700000\n",
       "                75%      28.700000    19.700000    18.000000    24.275000\n",
       "                max      37.400000    27.900000    25.100000    30.500000\n",
       "temperatura_max count  4597.000000  2574.000000  3292.000000   230.000000\n",
       "                mean     18.409941     9.411772     7.397296    13.390870\n",
       "                std       3.507407     3.914082     3.504903     5.011502\n",
       "                min       7.400000    -2.200000    -3.600000    -0.200000\n",
       "                25%      16.000000     6.800000     5.000000    10.000000\n",
       "                50%      18.700000     9.400000     7.400000    13.750000\n",
       "                75%      21.200000    12.200000     9.700000    17.075000\n",
       "                max      27.300000    21.100000    20.500000    24.200000\n",
       "velocidad_media count  4597.000000  2574.000000  3292.000000   230.000000\n",
       "                mean     15.215541    16.522657    13.910413    19.189565\n",
       "                std       4.444163     6.669296     4.893052    10.267208\n",
       "                min       0.000000     0.000000     0.000000     0.000000\n",
       "                25%      11.880000    11.880000    11.160000    11.880000\n",
       "                50%      15.120000    15.120000    12.960000    16.920000\n",
       "                75%      18.000000    20.160000    16.920000    23.040000\n",
       "                max      37.080000    51.120000    42.120000    68.040000\n",
       "mes             count  4597.000000  2574.000000  3292.000000   230.000000\n",
       "                mean      7.240809     5.998057     5.717497     7.334783\n",
       "                std       1.700255     3.931348     4.448540     3.255645\n",
       "                min       1.000000     1.000000     1.000000     1.000000\n",
       "                25%       6.000000     3.000000     2.000000     4.250000\n",
       "                50%       7.000000     4.000000     3.000000     8.000000\n",
       "                75%       9.000000    11.000000    11.000000    10.000000\n",
       "                max      11.000000    12.000000    12.000000    12.000000\n",
       "anio            count  4597.000000  2574.000000  3292.000000   230.000000\n",
       "                mean   2006.559930  2006.320124  2005.676488  2006.165217\n",
       "                std       8.364529     8.550443     8.726446     8.916821\n",
       "                min    1992.000000  1992.000000  1992.000000  1992.000000\n",
       "                25%    1999.000000  1999.000000  1998.000000  1998.000000\n",
       "                50%    2007.000000  2007.000000  2005.000000  2005.000000\n",
       "                75%    2014.000000  2014.000000  2013.000000  2013.000000\n",
       "                max    2021.000000  2021.000000  2021.000000  2021.000000"
      ]
     },
     "execution_count": 48,
     "metadata": {},
     "output_type": "execute_result"
    }
   ],
   "source": [
    "DATA.groupby('cluster').describe().T"
   ]
  },
  {
   "cell_type": "code",
   "execution_count": 50,
   "id": "common-myanmar",
   "metadata": {},
   "outputs": [
    {
     "data": {
      "text/html": [
       "<div>\n",
       "<style scoped>\n",
       "    .dataframe tbody tr th:only-of-type {\n",
       "        vertical-align: middle;\n",
       "    }\n",
       "\n",
       "    .dataframe tbody tr th {\n",
       "        vertical-align: top;\n",
       "    }\n",
       "\n",
       "    .dataframe thead th {\n",
       "        text-align: right;\n",
       "    }\n",
       "</style>\n",
       "<table border=\"1\" class=\"dataframe\">\n",
       "  <thead>\n",
       "    <tr style=\"text-align: right;\">\n",
       "      <th></th>\n",
       "      <th>precipitacion</th>\n",
       "      <th>horas_sol</th>\n",
       "      <th>presion_max</th>\n",
       "      <th>presion_min</th>\n",
       "      <th>temperatura_min</th>\n",
       "      <th>temperatura_max</th>\n",
       "      <th>velocidad_media</th>\n",
       "      <th>mes</th>\n",
       "      <th>anio</th>\n",
       "      <th>cluster</th>\n",
       "    </tr>\n",
       "    <tr>\n",
       "      <th>fecha</th>\n",
       "      <th></th>\n",
       "      <th></th>\n",
       "      <th></th>\n",
       "      <th></th>\n",
       "      <th></th>\n",
       "      <th></th>\n",
       "      <th></th>\n",
       "      <th></th>\n",
       "      <th></th>\n",
       "      <th></th>\n",
       "    </tr>\n",
       "  </thead>\n",
       "  <tbody>\n",
       "    <tr>\n",
       "      <th>1992-01-01</th>\n",
       "      <td>0.0</td>\n",
       "      <td>6.6</td>\n",
       "      <td>1037.8</td>\n",
       "      <td>1033.6</td>\n",
       "      <td>11.6</td>\n",
       "      <td>0.3</td>\n",
       "      <td>7.92</td>\n",
       "      <td>1</td>\n",
       "      <td>1992</td>\n",
       "      <td>2</td>\n",
       "    </tr>\n",
       "    <tr>\n",
       "      <th>1992-01-02</th>\n",
       "      <td>0.0</td>\n",
       "      <td>6.4</td>\n",
       "      <td>1038.6</td>\n",
       "      <td>1037.0</td>\n",
       "      <td>12.6</td>\n",
       "      <td>0.2</td>\n",
       "      <td>11.16</td>\n",
       "      <td>1</td>\n",
       "      <td>1992</td>\n",
       "      <td>2</td>\n",
       "    </tr>\n",
       "    <tr>\n",
       "      <th>1992-01-03</th>\n",
       "      <td>0.3</td>\n",
       "      <td>1.0</td>\n",
       "      <td>1037.3</td>\n",
       "      <td>1032.7</td>\n",
       "      <td>12.2</td>\n",
       "      <td>2.3</td>\n",
       "      <td>7.92</td>\n",
       "      <td>1</td>\n",
       "      <td>1992</td>\n",
       "      <td>2</td>\n",
       "    </tr>\n",
       "    <tr>\n",
       "      <th>1992-01-04</th>\n",
       "      <td>0.0</td>\n",
       "      <td>5.7</td>\n",
       "      <td>1034.3</td>\n",
       "      <td>1031.4</td>\n",
       "      <td>12.5</td>\n",
       "      <td>1.3</td>\n",
       "      <td>11.16</td>\n",
       "      <td>1</td>\n",
       "      <td>1992</td>\n",
       "      <td>2</td>\n",
       "    </tr>\n",
       "    <tr>\n",
       "      <th>1992-01-05</th>\n",
       "      <td>0.0</td>\n",
       "      <td>6.8</td>\n",
       "      <td>1034.3</td>\n",
       "      <td>1032.0</td>\n",
       "      <td>12.4</td>\n",
       "      <td>0.2</td>\n",
       "      <td>11.16</td>\n",
       "      <td>1</td>\n",
       "      <td>1992</td>\n",
       "      <td>2</td>\n",
       "    </tr>\n",
       "  </tbody>\n",
       "</table>\n",
       "</div>"
      ],
      "text/plain": [
       "            precipitacion  horas_sol  presion_max  presion_min  \\\n",
       "fecha                                                            \n",
       "1992-01-01            0.0        6.6       1037.8       1033.6   \n",
       "1992-01-02            0.0        6.4       1038.6       1037.0   \n",
       "1992-01-03            0.3        1.0       1037.3       1032.7   \n",
       "1992-01-04            0.0        5.7       1034.3       1031.4   \n",
       "1992-01-05            0.0        6.8       1034.3       1032.0   \n",
       "\n",
       "            temperatura_min  temperatura_max  velocidad_media  mes  anio  \\\n",
       "fecha                                                                      \n",
       "1992-01-01             11.6              0.3             7.92    1  1992   \n",
       "1992-01-02             12.6              0.2            11.16    1  1992   \n",
       "1992-01-03             12.2              2.3             7.92    1  1992   \n",
       "1992-01-04             12.5              1.3            11.16    1  1992   \n",
       "1992-01-05             12.4              0.2            11.16    1  1992   \n",
       "\n",
       "            cluster  \n",
       "fecha                \n",
       "1992-01-01        2  \n",
       "1992-01-02        2  \n",
       "1992-01-03        2  \n",
       "1992-01-04        2  \n",
       "1992-01-05        2  "
      ]
     },
     "execution_count": 50,
     "metadata": {},
     "output_type": "execute_result"
    }
   ],
   "source": [
    "DATA.head()"
   ]
  },
  {
   "cell_type": "code",
   "execution_count": 52,
   "id": "restricted-chambers",
   "metadata": {},
   "outputs": [
    {
     "data": {
      "image/png": "[encoded data removed]",
      "text/plain": [
       "<Figure size 1080x720 with 8 Axes>"
      ]
     },
     "metadata": {},
     "output_type": "display_data"
    }
   ],
   "source": [
    "#sns.boxplot(df)\n",
    "filas=2\n",
    "columnas=4\n",
    "\n",
    "# Figs, axes.\n",
    "fig, axes = plt.subplots(filas, columnas, figsize=(15, 10),tight_layout=True)\n",
    "\n",
    "\n",
    "# Plot histogramas\n",
    "for i in range(filas):\n",
    "    for j in range(columnas):\n",
    "        var=(+j)+(i*columnas)\n",
    "        sns.boxplot(ax = axes[i, j], \n",
    "                     data = DATA,  \n",
    "                     y = DATA.columns[var],\n",
    "                     x = 'cluster')"
   ]
  },
  {
   "cell_type": "markdown",
   "id": "daily-burns",
   "metadata": {},
   "source": [
    "El cluster 3 agrupa todos los registros con valores de precipitaciones mayores de 19, con menor horas de insolación y con una mediana de velocidad del viento mayor.\n",
    "\n",
    "El cluster 0 agrupa observaciones con un mayor promedio de horas de insolación, con temperaturas más altas y más concentrado en los meses de verano.\n",
    "\n",
    "Los Cluster 1 y 2 están agrupados mayoritariamente en los primeros meses del año (aunque con registros de todo el año) son los clusters que registran menores temperaturas y una insolación intermedia y como diferencia el cluster 1 registra las presiones más bajas y el cluster 2 las presiones más altas del grupo.\n",
    "\n"
   ]
  },
  {
   "cell_type": "markdown",
   "id": "homeless-perception",
   "metadata": {},
   "source": [
    "## 4. Aprendizaje supervisado. Clasificación.\n",
    "\n",
    "En este apartado voy a plantear un problema aprendizaje supervisado para el conjunto de datos. En concreto voy a plantear un algoritmo de clasificación que me permita predecir si habrá lluvia en función de las variables atmosféricas.\n",
    "\n",
    "Para este caso voy a hacer una clasificación. Crearé una variable que se llame lluvia y tenga 2 clases. \n",
    "- **0**: No ha llovido.\n",
    "- **1**: Si ha llovido.\n",
    "\n",
    "Esta será mi variable objetivo."
   ]
  },
  {
   "cell_type": "code",
   "execution_count": 81,
   "id": "radical-cancellation",
   "metadata": {},
   "outputs": [],
   "source": [
    "# Lluvia -  \n",
    "DATA['lluvia'] = 0\n",
    "DATA.loc[DATA.precipitacion > 0, 'lluvia'] = 1\n"
   ]
  },
  {
   "cell_type": "code",
   "execution_count": 82,
   "id": "historic-armor",
   "metadata": {},
   "outputs": [
    {
     "data": {
      "text/plain": [
       "0    8459\n",
       "1    2234\n",
       "Name: lluvia, dtype: int64"
      ]
     },
     "execution_count": 82,
     "metadata": {},
     "output_type": "execute_result"
    }
   ],
   "source": [
    "DATA.lluvia.value_counts()"
   ]
  },
  {
   "cell_type": "markdown",
   "id": "threatened-keyboard",
   "metadata": {},
   "source": [
    "Para el ejercicio eliminaré los campos de precipitación y cluster que fue obtenido en el caso anterior con todo el dataset y que podría producir data leakage al pasar información del test."
   ]
  },
  {
   "cell_type": "code",
   "execution_count": 83,
   "id": "forward-folks",
   "metadata": {},
   "outputs": [],
   "source": [
    "DATA.drop(columns=['precipitacion','cluster'], inplace=True)"
   ]
  },
  {
   "cell_type": "code",
   "execution_count": 84,
   "id": "facial-arrival",
   "metadata": {},
   "outputs": [],
   "source": [
    "X = DATA.drop(columns = ['lluvia'])\n",
    "y = DATA.lluvia"
   ]
  },
  {
   "cell_type": "code",
   "execution_count": 85,
   "id": "afraid-thesaurus",
   "metadata": {},
   "outputs": [],
   "source": [
    "X_train, X_test, y_train, y_test = train_test_split(X,\n",
    "                                                    y,\n",
    "                                                    test_size = 0.2,\n",
    "                                                    random_state = 1984,\n",
    "                                                    stratify = y)"
   ]
  },
  {
   "cell_type": "code",
   "execution_count": 86,
   "id": "amazing-shame",
   "metadata": {},
   "outputs": [
    {
     "data": {
      "text/html": [
       "<div>\n",
       "<style scoped>\n",
       "    .dataframe tbody tr th:only-of-type {\n",
       "        vertical-align: middle;\n",
       "    }\n",
       "\n",
       "    .dataframe tbody tr th {\n",
       "        vertical-align: top;\n",
       "    }\n",
       "\n",
       "    .dataframe thead th {\n",
       "        text-align: right;\n",
       "    }\n",
       "</style>\n",
       "<table border=\"1\" class=\"dataframe\">\n",
       "  <thead>\n",
       "    <tr style=\"text-align: right;\">\n",
       "      <th></th>\n",
       "      <th>horas_sol</th>\n",
       "      <th>presion_max</th>\n",
       "      <th>presion_min</th>\n",
       "      <th>temperatura_min</th>\n",
       "      <th>temperatura_max</th>\n",
       "      <th>velocidad_media</th>\n",
       "      <th>mes</th>\n",
       "      <th>anio</th>\n",
       "    </tr>\n",
       "    <tr>\n",
       "      <th>fecha</th>\n",
       "      <th></th>\n",
       "      <th></th>\n",
       "      <th></th>\n",
       "      <th></th>\n",
       "      <th></th>\n",
       "      <th></th>\n",
       "      <th></th>\n",
       "      <th></th>\n",
       "    </tr>\n",
       "  </thead>\n",
       "  <tbody>\n",
       "    <tr>\n",
       "      <th>2019-08-07</th>\n",
       "      <td>3.3</td>\n",
       "      <td>1012.0</td>\n",
       "      <td>1008.7</td>\n",
       "      <td>29.4</td>\n",
       "      <td>26.0</td>\n",
       "      <td>14.04</td>\n",
       "      <td>8</td>\n",
       "      <td>2019</td>\n",
       "    </tr>\n",
       "    <tr>\n",
       "      <th>1994-01-04</th>\n",
       "      <td>1.4</td>\n",
       "      <td>1017.2</td>\n",
       "      <td>1009.0</td>\n",
       "      <td>15.5</td>\n",
       "      <td>7.8</td>\n",
       "      <td>11.88</td>\n",
       "      <td>1</td>\n",
       "      <td>1994</td>\n",
       "    </tr>\n",
       "    <tr>\n",
       "      <th>2009-11-11</th>\n",
       "      <td>1.2</td>\n",
       "      <td>1012.2</td>\n",
       "      <td>1009.1</td>\n",
       "      <td>16.9</td>\n",
       "      <td>7.3</td>\n",
       "      <td>11.88</td>\n",
       "      <td>11</td>\n",
       "      <td>2009</td>\n",
       "    </tr>\n",
       "    <tr>\n",
       "      <th>1992-01-11</th>\n",
       "      <td>4.3</td>\n",
       "      <td>1023.2</td>\n",
       "      <td>1019.9</td>\n",
       "      <td>12.1</td>\n",
       "      <td>2.4</td>\n",
       "      <td>5.04</td>\n",
       "      <td>1</td>\n",
       "      <td>1992</td>\n",
       "    </tr>\n",
       "    <tr>\n",
       "      <th>2004-01-25</th>\n",
       "      <td>3.2</td>\n",
       "      <td>1018.7</td>\n",
       "      <td>1009.8</td>\n",
       "      <td>13.6</td>\n",
       "      <td>5.9</td>\n",
       "      <td>6.84</td>\n",
       "      <td>1</td>\n",
       "      <td>2004</td>\n",
       "    </tr>\n",
       "    <tr>\n",
       "      <th>...</th>\n",
       "      <td>...</td>\n",
       "      <td>...</td>\n",
       "      <td>...</td>\n",
       "      <td>...</td>\n",
       "      <td>...</td>\n",
       "      <td>...</td>\n",
       "      <td>...</td>\n",
       "      <td>...</td>\n",
       "    </tr>\n",
       "    <tr>\n",
       "      <th>2000-05-23</th>\n",
       "      <td>10.0</td>\n",
       "      <td>1020.0</td>\n",
       "      <td>1017.9</td>\n",
       "      <td>19.8</td>\n",
       "      <td>13.0</td>\n",
       "      <td>14.04</td>\n",
       "      <td>5</td>\n",
       "      <td>2000</td>\n",
       "    </tr>\n",
       "    <tr>\n",
       "      <th>2016-03-04</th>\n",
       "      <td>8.3</td>\n",
       "      <td>1012.9</td>\n",
       "      <td>997.3</td>\n",
       "      <td>15.9</td>\n",
       "      <td>7.3</td>\n",
       "      <td>19.08</td>\n",
       "      <td>3</td>\n",
       "      <td>2016</td>\n",
       "    </tr>\n",
       "    <tr>\n",
       "      <th>2020-09-14</th>\n",
       "      <td>10.8</td>\n",
       "      <td>1023.4</td>\n",
       "      <td>1020.9</td>\n",
       "      <td>29.6</td>\n",
       "      <td>19.4</td>\n",
       "      <td>14.04</td>\n",
       "      <td>9</td>\n",
       "      <td>2020</td>\n",
       "    </tr>\n",
       "    <tr>\n",
       "      <th>2002-03-16</th>\n",
       "      <td>7.1</td>\n",
       "      <td>1014.3</td>\n",
       "      <td>1011.3</td>\n",
       "      <td>15.4</td>\n",
       "      <td>7.7</td>\n",
       "      <td>15.84</td>\n",
       "      <td>3</td>\n",
       "      <td>2002</td>\n",
       "    </tr>\n",
       "    <tr>\n",
       "      <th>1995-07-14</th>\n",
       "      <td>10.2</td>\n",
       "      <td>1015.3</td>\n",
       "      <td>1013.0</td>\n",
       "      <td>27.4</td>\n",
       "      <td>19.6</td>\n",
       "      <td>14.04</td>\n",
       "      <td>7</td>\n",
       "      <td>1995</td>\n",
       "    </tr>\n",
       "  </tbody>\n",
       "</table>\n",
       "<p>8554 rows × 8 columns</p>\n",
       "</div>"
      ],
      "text/plain": [
       "            horas_sol  presion_max  presion_min  temperatura_min  \\\n",
       "fecha                                                              \n",
       "2019-08-07        3.3       1012.0       1008.7             29.4   \n",
       "1994-01-04        1.4       1017.2       1009.0             15.5   \n",
       "2009-11-11        1.2       1012.2       1009.1             16.9   \n",
       "1992-01-11        4.3       1023.2       1019.9             12.1   \n",
       "2004-01-25        3.2       1018.7       1009.8             13.6   \n",
       "...               ...          ...          ...              ...   \n",
       "2000-05-23       10.0       1020.0       1017.9             19.8   \n",
       "2016-03-04        8.3       1012.9        997.3             15.9   \n",
       "2020-09-14       10.8       1023.4       1020.9             29.6   \n",
       "2002-03-16        7.1       1014.3       1011.3             15.4   \n",
       "1995-07-14       10.2       1015.3       1013.0             27.4   \n",
       "\n",
       "            temperatura_max  velocidad_media  mes  anio  \n",
       "fecha                                                    \n",
       "2019-08-07             26.0            14.04    8  2019  \n",
       "1994-01-04              7.8            11.88    1  1994  \n",
       "2009-11-11              7.3            11.88   11  2009  \n",
       "1992-01-11              2.4             5.04    1  1992  \n",
       "2004-01-25              5.9             6.84    1  2004  \n",
       "...                     ...              ...  ...   ...  \n",
       "2000-05-23             13.0            14.04    5  2000  \n",
       "2016-03-04              7.3            19.08    3  2016  \n",
       "2020-09-14             19.4            14.04    9  2020  \n",
       "2002-03-16              7.7            15.84    3  2002  \n",
       "1995-07-14             19.6            14.04    7  1995  \n",
       "\n",
       "[8554 rows x 8 columns]"
      ]
     },
     "execution_count": 86,
     "metadata": {},
     "output_type": "execute_result"
    }
   ],
   "source": [
    "X_train"
   ]
  },
  {
   "cell_type": "code",
   "execution_count": 235,
   "id": "material-signal",
   "metadata": {},
   "outputs": [],
   "source": [
    "# Optuna wrapper to optimize \n",
    "\n",
    "def objective(trial):\n",
    "    clf_name = trial.suggest_categorical('clf',['KNN', 'Log_Reg','Decision_tree'])\n",
    "    \n",
    "    if clf_name == 'KNN':\n",
    "        kbest=trial.suggest_int('k',1,8)\n",
    "        neighbors = trial.suggest_int('n_neighbors',3,95, step=2)\n",
    "        weights_param = trial.suggest_categorical('weights',['uniform','distance'])\n",
    "        \n",
    "        clf_object = Pipeline(steps=[('Scaling', StandardScaler()),\n",
    "                                     ('Kbest',SelectKBest(k=kbest)),\n",
    "                                     ('KNN', KNeighborsClassifier(n_neighbors=neighbors,\n",
    "                                                                  weights=weights_param)),\n",
    "                                    ])\n",
    "    \n",
    "    elif clf_name == 'Log_reg':\n",
    "        clf_object = Pipeline(steps=[('Scaling', StandardScaler()),\n",
    "                                     ('Log_reg',LogisticRegression(max_iter = 500))\n",
    "                                    ])\n",
    "        \n",
    "    \n",
    "    \n",
    "    else:\n",
    "        profundidad = trial.suggest_int('max_depth',3,10, step=1)\n",
    "        \n",
    "        clf_object = Pipeline(steps=[('RFC',RFECV(estimator=DecisionTreeClassifier())),\n",
    "                                     ('Decision_tree',DecisionTreeClassifier(max_depth=profundidad,\n",
    "                                                                             random_state=1984,\n",
    "                                                                             class_weight={0:2,1:8}))\n",
    "                                    ])\n",
    "    \n",
    "    folds = StratifiedKFold(n_splits=5,)\n",
    "    score = cross_val_score(clf_object,\n",
    "                            X=X_train, \n",
    "                            y=y_train, \n",
    "                            scoring='roc_auc',\n",
    "                            cv=folds)\n",
    "\n",
    "    return score.mean()\n",
    "        \n"
   ]
  },
  {
   "cell_type": "code",
   "execution_count": 236,
   "id": "japanese-detection",
   "metadata": {},
   "outputs": [
    {
     "name": "stderr",
     "output_type": "stream",
     "text": [
      "\u001b[32m[I 2021-07-16 11:10:35,144]\u001b[0m A new study created in memory with name: no-name-0fff1dd0-28b8-49d2-b409-30bdbffcad7e\u001b[0m\n",
      "C:\\Users\\iukan\\anaconda3\\lib\\site-packages\\optuna\\progress_bar.py:47: ExperimentalWarning: Progress bar is experimental (supported from v1.2.0). The interface can change in the future.\n",
      "  self._init_valid()\n"
     ]
    },
    {
     "data": {
      "application/vnd.jupyter.widget-view+json": {
       "model_id": "a5a947c1c430443aa303d55190aa6bb1",
       "version_major": 2,
       "version_minor": 0
      },
      "text/plain": [
       "  0%|          | 0/100 [00:00<?, ?it/s]"
      ]
     },
     "metadata": {},
     "output_type": "display_data"
    },
    {
     "name": "stdout",
     "output_type": "stream",
     "text": [
      "\u001b[32m[I 2021-07-16 11:10:38,234]\u001b[0m Trial 0 finished with value: 0.7413508826605109 and parameters: {'clf': 'Decision_tree', 'max_depth': 8}. Best is trial 0 with value: 0.7413508826605109.\u001b[0m\n",
      "\u001b[32m[I 2021-07-16 11:10:38,509]\u001b[0m Trial 1 finished with value: 0.828972866285542 and parameters: {'clf': 'KNN', 'k': 6, 'n_neighbors': 31, 'weights': 'uniform'}. Best is trial 1 with value: 0.828972866285542.\u001b[0m\n",
      "\u001b[32m[I 2021-07-16 11:10:38,621]\u001b[0m Trial 2 finished with value: 0.773671109779096 and parameters: {'clf': 'KNN', 'k': 1, 'n_neighbors': 65, 'weights': 'distance'}. Best is trial 1 with value: 0.828972866285542.\u001b[0m\n",
      "\u001b[32m[I 2021-07-16 11:10:41,618]\u001b[0m Trial 3 finished with value: 0.7674152114256354 and parameters: {'clf': 'Log_Reg', 'max_depth': 4}. Best is trial 1 with value: 0.828972866285542.\u001b[0m\n",
      "\u001b[32m[I 2021-07-16 11:10:44,535]\u001b[0m Trial 4 finished with value: 0.7674152114256354 and parameters: {'clf': 'Log_Reg', 'max_depth': 4}. Best is trial 1 with value: 0.828972866285542.\u001b[0m\n",
      "\u001b[32m[I 2021-07-16 11:10:44,828]\u001b[0m Trial 5 finished with value: 0.8313092712787006 and parameters: {'clf': 'KNN', 'k': 6, 'n_neighbors': 35, 'weights': 'distance'}. Best is trial 5 with value: 0.8313092712787006.\u001b[0m\n",
      "\u001b[32m[I 2021-07-16 11:10:47,898]\u001b[0m Trial 6 finished with value: 0.7414160663291882 and parameters: {'clf': 'Decision_tree', 'max_depth': 8}. Best is trial 5 with value: 0.8313092712787006.\u001b[0m\n",
      "\u001b[32m[I 2021-07-16 11:10:50,865]\u001b[0m Trial 7 finished with value: 0.7674152114256354 and parameters: {'clf': 'Log_Reg', 'max_depth': 4}. Best is trial 5 with value: 0.8313092712787006.\u001b[0m\n",
      "\u001b[32m[I 2021-07-16 11:10:50,952]\u001b[0m Trial 8 finished with value: 0.7731696819299321 and parameters: {'clf': 'KNN', 'k': 1, 'n_neighbors': 37, 'weights': 'uniform'}. Best is trial 5 with value: 0.8313092712787006.\u001b[0m\n",
      "\u001b[32m[I 2021-07-16 11:10:53,981]\u001b[0m Trial 9 finished with value: 0.7596452867137601 and parameters: {'clf': 'Log_Reg', 'max_depth': 7}. Best is trial 5 with value: 0.8313092712787006.\u001b[0m\n",
      "\u001b[32m[I 2021-07-16 11:10:54,293]\u001b[0m Trial 10 finished with value: 0.7990275146643538 and parameters: {'clf': 'KNN', 'k': 8, 'n_neighbors': 9, 'weights': 'distance'}. Best is trial 5 with value: 0.8313092712787006.\u001b[0m\n",
      "\u001b[32m[I 2021-07-16 11:10:54,575]\u001b[0m Trial 11 finished with value: 0.8275096440761869 and parameters: {'clf': 'KNN', 'k': 6, 'n_neighbors': 29, 'weights': 'uniform'}. Best is trial 5 with value: 0.8313092712787006.\u001b[0m\n",
      "\u001b[32m[I 2021-07-16 11:10:54,793]\u001b[0m Trial 12 finished with value: 0.815170229900005 and parameters: {'clf': 'KNN', 'k': 5, 'n_neighbors': 27, 'weights': 'distance'}. Best is trial 5 with value: 0.8313092712787006.\u001b[0m\n",
      "\u001b[32m[I 2021-07-16 11:10:55,241]\u001b[0m Trial 13 finished with value: 0.8338805138130514 and parameters: {'clf': 'KNN', 'k': 7, 'n_neighbors': 53, 'weights': 'uniform'}. Best is trial 13 with value: 0.8338805138130514.\u001b[0m\n",
      "\u001b[32m[I 2021-07-16 11:10:55,799]\u001b[0m Trial 14 finished with value: 0.8384436649642524 and parameters: {'clf': 'KNN', 'k': 8, 'n_neighbors': 63, 'weights': 'distance'}. Best is trial 14 with value: 0.8384436649642524.\u001b[0m\n",
      "\u001b[32m[I 2021-07-16 11:10:56,427]\u001b[0m Trial 15 finished with value: 0.8378360699545713 and parameters: {'clf': 'KNN', 'k': 8, 'n_neighbors': 87, 'weights': 'uniform'}. Best is trial 14 with value: 0.8384436649642524.\u001b[0m\n",
      "\u001b[32m[I 2021-07-16 11:10:59,448]\u001b[0m Trial 16 finished with value: 0.7336330506784388 and parameters: {'clf': 'Decision_tree', 'max_depth': 10}. Best is trial 14 with value: 0.8384436649642524.\u001b[0m\n",
      "\u001b[32m[I 2021-07-16 11:11:00,106]\u001b[0m Trial 17 finished with value: 0.8389673343520337 and parameters: {'clf': 'KNN', 'k': 8, 'n_neighbors': 95, 'weights': 'distance'}. Best is trial 17 with value: 0.8389673343520337.\u001b[0m\n",
      "\u001b[32m[I 2021-07-16 11:11:00,343]\u001b[0m Trial 18 finished with value: 0.8234908377845928 and parameters: {'clf': 'KNN', 'k': 3, 'n_neighbors': 93, 'weights': 'distance'}. Best is trial 17 with value: 0.8389673343520337.\u001b[0m\n",
      "\u001b[32m[I 2021-07-16 11:11:00,957]\u001b[0m Trial 19 finished with value: 0.8383857208406077 and parameters: {'clf': 'KNN', 'k': 8, 'n_neighbors': 79, 'weights': 'distance'}. Best is trial 17 with value: 0.8389673343520337.\u001b[0m\n",
      "\u001b[32m[I 2021-07-16 11:11:03,910]\u001b[0m Trial 20 finished with value: 0.7509534500346362 and parameters: {'clf': 'Decision_tree', 'max_depth': 10}. Best is trial 17 with value: 0.8389673343520337.\u001b[0m\n",
      "\u001b[32m[I 2021-07-16 11:11:04,534]\u001b[0m Trial 21 finished with value: 0.8382889739251315 and parameters: {'clf': 'KNN', 'k': 8, 'n_neighbors': 77, 'weights': 'distance'}. Best is trial 17 with value: 0.8389673343520337.\u001b[0m\n",
      "\u001b[32m[I 2021-07-16 11:11:05,123]\u001b[0m Trial 22 finished with value: 0.8384355034685415 and parameters: {'clf': 'KNN', 'k': 8, 'n_neighbors': 73, 'weights': 'distance'}. Best is trial 17 with value: 0.8389673343520337.\u001b[0m\n",
      "\u001b[32m[I 2021-07-16 11:11:05,617]\u001b[0m Trial 23 finished with value: 0.8352049559222721 and parameters: {'clf': 'KNN', 'k': 7, 'n_neighbors': 65, 'weights': 'distance'}. Best is trial 17 with value: 0.8389673343520337.\u001b[0m\n",
      "\u001b[32m[I 2021-07-16 11:11:06,098]\u001b[0m Trial 24 finished with value: 0.8351921461903646 and parameters: {'clf': 'KNN', 'k': 7, 'n_neighbors': 63, 'weights': 'distance'}. Best is trial 17 with value: 0.8389673343520337.\u001b[0m\n",
      "\u001b[32m[I 2021-07-16 11:11:06,314]\u001b[0m Trial 25 finished with value: 0.8232340223971233 and parameters: {'clf': 'KNN', 'k': 3, 'n_neighbors': 81, 'weights': 'distance'}. Best is trial 17 with value: 0.8389673343520337.\u001b[0m\n",
      "\u001b[32m[I 2021-07-16 11:11:06,968]\u001b[0m Trial 26 finished with value: 0.8389673343520337 and parameters: {'clf': 'KNN', 'k': 8, 'n_neighbors': 95, 'weights': 'distance'}. Best is trial 17 with value: 0.8389673343520337.\u001b[0m\n",
      "\u001b[32m[I 2021-07-16 11:11:07,579]\u001b[0m Trial 27 finished with value: 0.8359282387707058 and parameters: {'clf': 'KNN', 'k': 7, 'n_neighbors': 93, 'weights': 'distance'}. Best is trial 17 with value: 0.8389673343520337.\u001b[0m\n",
      "\u001b[32m[I 2021-07-16 11:11:07,972]\u001b[0m Trial 28 finished with value: 0.8287342301076375 and parameters: {'clf': 'KNN', 'k': 5, 'n_neighbors': 95, 'weights': 'distance'}. Best is trial 17 with value: 0.8389673343520337.\u001b[0m\n",
      "\u001b[32m[I 2021-07-16 11:11:10,966]\u001b[0m Trial 29 finished with value: 0.747591033494721 and parameters: {'clf': 'Decision_tree', 'max_depth': 6}. Best is trial 17 with value: 0.8389673343520337.\u001b[0m\n",
      "\u001b[32m[I 2021-07-16 11:11:11,411]\u001b[0m Trial 30 finished with value: 0.8341470098261476 and parameters: {'clf': 'KNN', 'k': 7, 'n_neighbors': 51, 'weights': 'distance'}. Best is trial 17 with value: 0.8389673343520337.\u001b[0m\n",
      "\u001b[32m[I 2021-07-16 11:11:11,990]\u001b[0m Trial 31 finished with value: 0.8382364973376492 and parameters: {'clf': 'KNN', 'k': 8, 'n_neighbors': 67, 'weights': 'distance'}. Best is trial 17 with value: 0.8389673343520337.\u001b[0m\n",
      "\u001b[32m[I 2021-07-16 11:11:12,580]\u001b[0m Trial 32 finished with value: 0.8384355034685415 and parameters: {'clf': 'KNN', 'k': 8, 'n_neighbors': 73, 'weights': 'distance'}. Best is trial 17 with value: 0.8389673343520337.\u001b[0m\n",
      "\u001b[32m[I 2021-07-16 11:11:13,212]\u001b[0m Trial 33 finished with value: 0.8382720429282733 and parameters: {'clf': 'KNN', 'k': 8, 'n_neighbors': 85, 'weights': 'distance'}. Best is trial 17 with value: 0.8389673343520337.\u001b[0m\n",
      "\u001b[32m[I 2021-07-16 11:11:13,668]\u001b[0m Trial 34 finished with value: 0.8342028098892147 and parameters: {'clf': 'KNN', 'k': 7, 'n_neighbors': 55, 'weights': 'distance'}. Best is trial 17 with value: 0.8389673343520337.\u001b[0m\n",
      "\u001b[32m[I 2021-07-16 11:11:14,257]\u001b[0m Trial 35 finished with value: 0.8384355034685415 and parameters: {'clf': 'KNN', 'k': 8, 'n_neighbors': 73, 'weights': 'distance'}. Best is trial 17 with value: 0.8389673343520337.\u001b[0m\n",
      "\u001b[32m[I 2021-07-16 11:11:17,227]\u001b[0m Trial 36 finished with value: 0.7647968867003387 and parameters: {'clf': 'Log_Reg', 'max_depth': 3}. Best is trial 17 with value: 0.8389673343520337.\u001b[0m\n",
      "\u001b[32m[I 2021-07-16 11:11:17,668]\u001b[0m Trial 37 finished with value: 0.8368835035740243 and parameters: {'clf': 'KNN', 'k': 6, 'n_neighbors': 87, 'weights': 'distance'}. Best is trial 17 with value: 0.8389673343520337.\u001b[0m\n",
      "\u001b[32m[I 2021-07-16 11:11:18,091]\u001b[0m Trial 38 finished with value: 0.8324133933452842 and parameters: {'clf': 'KNN', 'k': 7, 'n_neighbors': 43, 'weights': 'distance'}. Best is trial 17 with value: 0.8389673343520337.\u001b[0m\n"
     ]
    },
    {
     "name": "stdout",
     "output_type": "stream",
     "text": [
      "\u001b[32m[I 2021-07-16 11:11:21,034]\u001b[0m Trial 39 finished with value: 0.7607351981029573 and parameters: {'clf': 'Log_Reg', 'max_depth': 6}. Best is trial 17 with value: 0.8389673343520337.\u001b[0m\n",
      "\u001b[32m[I 2021-07-16 11:11:24,064]\u001b[0m Trial 40 finished with value: 0.7517492988208282 and parameters: {'clf': 'Decision_tree', 'max_depth': 9}. Best is trial 17 with value: 0.8389673343520337.\u001b[0m\n",
      "\u001b[32m[I 2021-07-16 11:11:24,617]\u001b[0m Trial 41 finished with value: 0.8379759550017981 and parameters: {'clf': 'KNN', 'k': 8, 'n_neighbors': 59, 'weights': 'distance'}. Best is trial 17 with value: 0.8389673343520337.\u001b[0m\n",
      "\u001b[32m[I 2021-07-16 11:11:25,203]\u001b[0m Trial 42 finished with value: 0.8384355034685415 and parameters: {'clf': 'KNN', 'k': 8, 'n_neighbors': 73, 'weights': 'distance'}. Best is trial 17 with value: 0.8389673343520337.\u001b[0m\n",
      "\u001b[32m[I 2021-07-16 11:11:25,787]\u001b[0m Trial 43 finished with value: 0.8384201393269068 and parameters: {'clf': 'KNN', 'k': 8, 'n_neighbors': 71, 'weights': 'distance'}. Best is trial 17 with value: 0.8389673343520337.\u001b[0m\n",
      "\u001b[32m[I 2021-07-16 11:11:26,402]\u001b[0m Trial 44 finished with value: 0.8359330993051227 and parameters: {'clf': 'KNN', 'k': 7, 'n_neighbors': 95, 'weights': 'distance'}. Best is trial 17 with value: 0.8389673343520337.\u001b[0m\n",
      "\u001b[32m[I 2021-07-16 11:11:27,060]\u001b[0m Trial 45 finished with value: 0.8384645698090093 and parameters: {'clf': 'KNN', 'k': 8, 'n_neighbors': 83, 'weights': 'distance'}. Best is trial 17 with value: 0.8389673343520337.\u001b[0m\n",
      "\u001b[32m[I 2021-07-16 11:11:27,618]\u001b[0m Trial 46 finished with value: 0.836566764043076 and parameters: {'clf': 'KNN', 'k': 7, 'n_neighbors': 87, 'weights': 'distance'}. Best is trial 17 with value: 0.8389673343520337.\u001b[0m\n",
      "\u001b[32m[I 2021-07-16 11:11:28,052]\u001b[0m Trial 47 finished with value: 0.8368080371930725 and parameters: {'clf': 'KNN', 'k': 6, 'n_neighbors': 83, 'weights': 'distance'}. Best is trial 17 with value: 0.8389673343520337.\u001b[0m\n",
      "\u001b[32m[I 2021-07-16 11:11:31,011]\u001b[0m Trial 48 finished with value: 0.7647968867003387 and parameters: {'clf': 'Log_Reg', 'max_depth': 3}. Best is trial 17 with value: 0.8389673343520337.\u001b[0m\n",
      "\u001b[32m[I 2021-07-16 11:11:31,684]\u001b[0m Trial 49 finished with value: 0.8390024286394858 and parameters: {'clf': 'KNN', 'k': 8, 'n_neighbors': 89, 'weights': 'distance'}. Best is trial 49 with value: 0.8390024286394858.\u001b[0m\n",
      "\u001b[32m[I 2021-07-16 11:11:31,930]\u001b[0m Trial 50 finished with value: 0.8233891194110085 and parameters: {'clf': 'KNN', 'k': 3, 'n_neighbors': 91, 'weights': 'distance'}. Best is trial 49 with value: 0.8390024286394858.\u001b[0m\n",
      "\u001b[32m[I 2021-07-16 11:11:32,533]\u001b[0m Trial 51 finished with value: 0.8383857208406077 and parameters: {'clf': 'KNN', 'k': 8, 'n_neighbors': 79, 'weights': 'distance'}. Best is trial 49 with value: 0.8390024286394858.\u001b[0m\n",
      "\u001b[32m[I 2021-07-16 11:11:33,175]\u001b[0m Trial 52 finished with value: 0.8390024286394858 and parameters: {'clf': 'KNN', 'k': 8, 'n_neighbors': 89, 'weights': 'distance'}. Best is trial 49 with value: 0.8390024286394858.\u001b[0m\n",
      "\u001b[32m[I 2021-07-16 11:11:33,844]\u001b[0m Trial 53 finished with value: 0.8380804194696468 and parameters: {'clf': 'KNN', 'k': 8, 'n_neighbors': 89, 'weights': 'uniform'}. Best is trial 49 with value: 0.8390024286394858.\u001b[0m\n",
      "\u001b[32m[I 2021-07-16 11:11:34,446]\u001b[0m Trial 54 finished with value: 0.8359330993051227 and parameters: {'clf': 'KNN', 'k': 7, 'n_neighbors': 95, 'weights': 'distance'}. Best is trial 49 with value: 0.8390024286394858.\u001b[0m\n",
      "\u001b[32m[I 2021-07-16 11:11:34,824]\u001b[0m Trial 55 finished with value: 0.8170263549195778 and parameters: {'clf': 'KNN', 'k': 8, 'n_neighbors': 15, 'weights': 'distance'}. Best is trial 49 with value: 0.8390024286394858.\u001b[0m\n",
      "\u001b[32m[I 2021-07-16 11:11:35,322]\u001b[0m Trial 56 finished with value: 0.8369957463555812 and parameters: {'clf': 'KNN', 'k': 6, 'n_neighbors': 91, 'weights': 'distance'}. Best is trial 49 with value: 0.8390024286394858.\u001b[0m\n",
      "\u001b[32m[I 2021-07-16 11:11:35,880]\u001b[0m Trial 57 finished with value: 0.8368180426277247 and parameters: {'clf': 'KNN', 'k': 7, 'n_neighbors': 83, 'weights': 'distance'}. Best is trial 49 with value: 0.8390024286394858.\u001b[0m\n",
      "\u001b[32m[I 2021-07-16 11:11:39,105]\u001b[0m Trial 58 finished with value: 0.7491157222161281 and parameters: {'clf': 'Decision_tree', 'max_depth': 5}. Best is trial 49 with value: 0.8390024286394858.\u001b[0m\n",
      "\u001b[32m[I 2021-07-16 11:11:39,849]\u001b[0m Trial 59 finished with value: 0.8379737297276462 and parameters: {'clf': 'KNN', 'k': 8, 'n_neighbors': 95, 'weights': 'uniform'}. Best is trial 49 with value: 0.8390024286394858.\u001b[0m\n",
      "\u001b[32m[I 2021-07-16 11:11:39,975]\u001b[0m Trial 60 finished with value: 0.7616670884188603 and parameters: {'clf': 'KNN', 'k': 2, 'n_neighbors': 43, 'weights': 'distance'}. Best is trial 49 with value: 0.8390024286394858.\u001b[0m\n",
      "\u001b[32m[I 2021-07-16 11:11:40,627]\u001b[0m Trial 61 finished with value: 0.8382889739251315 and parameters: {'clf': 'KNN', 'k': 8, 'n_neighbors': 77, 'weights': 'distance'}. Best is trial 49 with value: 0.8390024286394858.\u001b[0m\n",
      "\u001b[32m[I 2021-07-16 11:11:41,237]\u001b[0m Trial 62 finished with value: 0.8382243101992977 and parameters: {'clf': 'KNN', 'k': 8, 'n_neighbors': 69, 'weights': 'distance'}. Best is trial 49 with value: 0.8390024286394858.\u001b[0m\n",
      "\u001b[32m[I 2021-07-16 11:11:41,917]\u001b[0m Trial 63 finished with value: 0.8390024286394858 and parameters: {'clf': 'KNN', 'k': 8, 'n_neighbors': 89, 'weights': 'distance'}. Best is trial 49 with value: 0.8390024286394858.\u001b[0m\n",
      "\u001b[32m[I 2021-07-16 11:11:42,590]\u001b[0m Trial 64 finished with value: 0.8390024286394858 and parameters: {'clf': 'KNN', 'k': 8, 'n_neighbors': 89, 'weights': 'distance'}. Best is trial 49 with value: 0.8390024286394858.\u001b[0m\n",
      "\u001b[32m[I 2021-07-16 11:11:43,187]\u001b[0m Trial 65 finished with value: 0.8363801461099758 and parameters: {'clf': 'KNN', 'k': 7, 'n_neighbors': 89, 'weights': 'distance'}. Best is trial 49 with value: 0.8390024286394858.\u001b[0m\n",
      "\u001b[32m[I 2021-07-16 11:11:43,848]\u001b[0m Trial 66 finished with value: 0.8382720429282733 and parameters: {'clf': 'KNN', 'k': 8, 'n_neighbors': 85, 'weights': 'distance'}. Best is trial 49 with value: 0.8390024286394858.\u001b[0m\n",
      "\u001b[32m[I 2021-07-16 11:11:44,443]\u001b[0m Trial 67 finished with value: 0.8361229315762598 and parameters: {'clf': 'KNN', 'k': 7, 'n_neighbors': 91, 'weights': 'distance'}. Best is trial 49 with value: 0.8390024286394858.\u001b[0m\n",
      "\u001b[32m[I 2021-07-16 11:11:45,073]\u001b[0m Trial 68 finished with value: 0.8375559258155498 and parameters: {'clf': 'KNN', 'k': 8, 'n_neighbors': 81, 'weights': 'uniform'}. Best is trial 49 with value: 0.8390024286394858.\u001b[0m\n",
      "\u001b[32m[I 2021-07-16 11:11:48,175]\u001b[0m Trial 69 finished with value: 0.759028797720439 and parameters: {'clf': 'Log_Reg', 'max_depth': 9}. Best is trial 49 with value: 0.8390024286394858.\u001b[0m\n",
      "\u001b[32m[I 2021-07-16 11:11:48,835]\u001b[0m Trial 70 finished with value: 0.8387605644015899 and parameters: {'clf': 'KNN', 'k': 8, 'n_neighbors': 93, 'weights': 'distance'}. Best is trial 49 with value: 0.8390024286394858.\u001b[0m\n",
      "\u001b[32m[I 2021-07-16 11:11:49,484]\u001b[0m Trial 71 finished with value: 0.8389673343520337 and parameters: {'clf': 'KNN', 'k': 8, 'n_neighbors': 95, 'weights': 'distance'}. Best is trial 49 with value: 0.8390024286394858.\u001b[0m\n",
      "\u001b[32m[I 2021-07-16 11:11:50,140]\u001b[0m Trial 72 finished with value: 0.8389673343520337 and parameters: {'clf': 'KNN', 'k': 8, 'n_neighbors': 95, 'weights': 'distance'}. Best is trial 49 with value: 0.8390024286394858.\u001b[0m\n",
      "\u001b[32m[I 2021-07-16 11:11:50,804]\u001b[0m Trial 73 finished with value: 0.8389673343520337 and parameters: {'clf': 'KNN', 'k': 8, 'n_neighbors': 95, 'weights': 'distance'}. Best is trial 49 with value: 0.8390024286394858.\u001b[0m\n",
      "\u001b[32m[I 2021-07-16 11:11:51,364]\u001b[0m Trial 74 finished with value: 0.8363801461099758 and parameters: {'clf': 'KNN', 'k': 7, 'n_neighbors': 89, 'weights': 'distance'}. Best is trial 49 with value: 0.8390024286394858.\u001b[0m\n",
      "\u001b[32m[I 2021-07-16 11:11:52,046]\u001b[0m Trial 75 finished with value: 0.8389673343520337 and parameters: {'clf': 'KNN', 'k': 8, 'n_neighbors': 95, 'weights': 'distance'}. Best is trial 49 with value: 0.8390024286394858.\u001b[0m\n",
      "\u001b[32m[I 2021-07-16 11:11:52,685]\u001b[0m Trial 76 finished with value: 0.8387722367966457 and parameters: {'clf': 'KNN', 'k': 8, 'n_neighbors': 91, 'weights': 'distance'}. Best is trial 49 with value: 0.8390024286394858.\u001b[0m\n"
     ]
    },
    {
     "name": "stdout",
     "output_type": "stream",
     "text": [
      "\u001b[32m[I 2021-07-16 11:11:53,063]\u001b[0m Trial 77 finished with value: 0.8286989319401586 and parameters: {'clf': 'KNN', 'k': 5, 'n_neighbors': 87, 'weights': 'distance'}. Best is trial 49 with value: 0.8390024286394858.\u001b[0m\n",
      "\u001b[32m[I 2021-07-16 11:11:53,730]\u001b[0m Trial 78 finished with value: 0.8389673343520337 and parameters: {'clf': 'KNN', 'k': 8, 'n_neighbors': 95, 'weights': 'distance'}. Best is trial 49 with value: 0.8390024286394858.\u001b[0m\n",
      "\u001b[32m[I 2021-07-16 11:11:56,898]\u001b[0m Trial 79 finished with value: 0.7596452867137601 and parameters: {'clf': 'Decision_tree', 'max_depth': 7}. Best is trial 49 with value: 0.8390024286394858.\u001b[0m\n",
      "\u001b[32m[I 2021-07-16 11:11:57,546]\u001b[0m Trial 80 finished with value: 0.8382720429282733 and parameters: {'clf': 'KNN', 'k': 8, 'n_neighbors': 85, 'weights': 'distance'}. Best is trial 49 with value: 0.8390024286394858.\u001b[0m\n",
      "\u001b[32m[I 2021-07-16 11:11:58,239]\u001b[0m Trial 81 finished with value: 0.8387605644015899 and parameters: {'clf': 'KNN', 'k': 8, 'n_neighbors': 93, 'weights': 'distance'}. Best is trial 49 with value: 0.8390024286394858.\u001b[0m\n",
      "\u001b[32m[I 2021-07-16 11:11:58,963]\u001b[0m Trial 82 finished with value: 0.8389673343520337 and parameters: {'clf': 'KNN', 'k': 8, 'n_neighbors': 95, 'weights': 'distance'}. Best is trial 49 with value: 0.8390024286394858.\u001b[0m\n",
      "\u001b[32m[I 2021-07-16 11:11:59,549]\u001b[0m Trial 83 finished with value: 0.8363801461099758 and parameters: {'clf': 'KNN', 'k': 7, 'n_neighbors': 89, 'weights': 'distance'}. Best is trial 49 with value: 0.8390024286394858.\u001b[0m\n",
      "\u001b[32m[I 2021-07-16 11:12:00,223]\u001b[0m Trial 84 finished with value: 0.8387722367966457 and parameters: {'clf': 'KNN', 'k': 8, 'n_neighbors': 91, 'weights': 'distance'}. Best is trial 49 with value: 0.8390024286394858.\u001b[0m\n",
      "\u001b[32m[I 2021-07-16 11:12:00,863]\u001b[0m Trial 85 finished with value: 0.8382889739251315 and parameters: {'clf': 'KNN', 'k': 8, 'n_neighbors': 77, 'weights': 'distance'}. Best is trial 49 with value: 0.8390024286394858.\u001b[0m\n",
      "\u001b[32m[I 2021-07-16 11:12:01,438]\u001b[0m Trial 86 finished with value: 0.836566764043076 and parameters: {'clf': 'KNN', 'k': 7, 'n_neighbors': 87, 'weights': 'distance'}. Best is trial 49 with value: 0.8390024286394858.\u001b[0m\n",
      "\u001b[32m[I 2021-07-16 11:12:02,113]\u001b[0m Trial 87 finished with value: 0.8389673343520337 and parameters: {'clf': 'KNN', 'k': 8, 'n_neighbors': 95, 'weights': 'distance'}. Best is trial 49 with value: 0.8390024286394858.\u001b[0m\n",
      "\u001b[32m[I 2021-07-16 11:12:02,684]\u001b[0m Trial 88 finished with value: 0.8370005747436877 and parameters: {'clf': 'KNN', 'k': 7, 'n_neighbors': 81, 'weights': 'distance'}. Best is trial 49 with value: 0.8390024286394858.\u001b[0m\n",
      "\u001b[32m[I 2021-07-16 11:12:03,367]\u001b[0m Trial 89 finished with value: 0.8387605644015899 and parameters: {'clf': 'KNN', 'k': 8, 'n_neighbors': 93, 'weights': 'distance'}. Best is trial 49 with value: 0.8390024286394858.\u001b[0m\n",
      "\u001b[32m[I 2021-07-16 11:12:04,089]\u001b[0m Trial 90 finished with value: 0.8389673343520337 and parameters: {'clf': 'KNN', 'k': 8, 'n_neighbors': 95, 'weights': 'distance'}. Best is trial 49 with value: 0.8390024286394858.\u001b[0m\n",
      "\u001b[32m[I 2021-07-16 11:12:04,789]\u001b[0m Trial 91 finished with value: 0.8387605644015899 and parameters: {'clf': 'KNN', 'k': 8, 'n_neighbors': 93, 'weights': 'distance'}. Best is trial 49 with value: 0.8390024286394858.\u001b[0m\n",
      "\u001b[32m[I 2021-07-16 11:12:05,494]\u001b[0m Trial 92 finished with value: 0.8390024286394858 and parameters: {'clf': 'KNN', 'k': 8, 'n_neighbors': 89, 'weights': 'distance'}. Best is trial 49 with value: 0.8390024286394858.\u001b[0m\n",
      "\u001b[32m[I 2021-07-16 11:12:06,188]\u001b[0m Trial 93 finished with value: 0.8382720429282733 and parameters: {'clf': 'KNN', 'k': 8, 'n_neighbors': 85, 'weights': 'distance'}. Best is trial 49 with value: 0.8390024286394858.\u001b[0m\n",
      "\u001b[32m[I 2021-07-16 11:12:06,890]\u001b[0m Trial 94 finished with value: 0.8390024286394858 and parameters: {'clf': 'KNN', 'k': 8, 'n_neighbors': 89, 'weights': 'distance'}. Best is trial 49 with value: 0.8390024286394858.\u001b[0m\n",
      "\u001b[32m[I 2021-07-16 11:12:07,560]\u001b[0m Trial 95 finished with value: 0.8390024286394858 and parameters: {'clf': 'KNN', 'k': 8, 'n_neighbors': 89, 'weights': 'distance'}. Best is trial 49 with value: 0.8390024286394858.\u001b[0m\n",
      "\u001b[32m[I 2021-07-16 11:12:10,613]\u001b[0m Trial 96 finished with value: 0.763741197571948 and parameters: {'clf': 'Log_Reg', 'max_depth': 5}. Best is trial 49 with value: 0.8390024286394858.\u001b[0m\n",
      "\u001b[32m[I 2021-07-16 11:12:11,186]\u001b[0m Trial 97 finished with value: 0.836566764043076 and parameters: {'clf': 'KNN', 'k': 7, 'n_neighbors': 87, 'weights': 'distance'}. Best is trial 49 with value: 0.8390024286394858.\u001b[0m\n",
      "\u001b[32m[I 2021-07-16 11:12:11,828]\u001b[0m Trial 98 finished with value: 0.8383857208406077 and parameters: {'clf': 'KNN', 'k': 8, 'n_neighbors': 79, 'weights': 'distance'}. Best is trial 49 with value: 0.8390024286394858.\u001b[0m\n",
      "\u001b[32m[I 2021-07-16 11:12:14,868]\u001b[0m Trial 99 finished with value: 0.7517492988208282 and parameters: {'clf': 'Decision_tree', 'max_depth': 9}. Best is trial 49 with value: 0.8390024286394858.\u001b[0m\n"
     ]
    }
   ],
   "source": [
    "study = optuna.create_study(direction='maximize')\n",
    "study.optimize(objective, n_trials=100, show_progress_bar=True)"
   ]
  },
  {
   "cell_type": "code",
   "execution_count": 237,
   "id": "bizarre-simpson",
   "metadata": {},
   "outputs": [
    {
     "data": {
      "text/plain": [
       "FrozenTrial(number=49, values=[0.8390024286394858], datetime_start=datetime.datetime(2021, 7, 16, 11, 11, 31, 14090), datetime_complete=datetime.datetime(2021, 7, 16, 11, 11, 31, 684299), params={'clf': 'KNN', 'k': 8, 'n_neighbors': 89, 'weights': 'distance'}, distributions={'clf': CategoricalDistribution(choices=('KNN', 'Log_Reg', 'Decision_tree')), 'k': IntUniformDistribution(high=8, low=1, step=1), 'n_neighbors': IntUniformDistribution(high=95, low=3, step=2), 'weights': CategoricalDistribution(choices=('uniform', 'distance'))}, user_attrs={}, system_attrs={}, intermediate_values={}, trial_id=49, state=TrialState.COMPLETE, value=None)"
      ]
     },
     "execution_count": 237,
     "metadata": {},
     "output_type": "execute_result"
    }
   ],
   "source": [
    "study.best_trial"
   ]
  },
  {
   "cell_type": "code",
   "execution_count": 238,
   "id": "artistic-message",
   "metadata": {},
   "outputs": [
    {
     "data": {
      "text/plain": [
       "0.8390024286394858"
      ]
     },
     "execution_count": 238,
     "metadata": {},
     "output_type": "execute_result"
    }
   ],
   "source": [
    "study.best_value"
   ]
  },
  {
   "cell_type": "code",
   "execution_count": 239,
   "id": "rocky-malta",
   "metadata": {},
   "outputs": [
    {
     "data": {
      "text/plain": [
       "{'clf': 'KNN', 'k': 8, 'n_neighbors': 89, 'weights': 'distance'}"
      ]
     },
     "execution_count": 239,
     "metadata": {},
     "output_type": "execute_result"
    }
   ],
   "source": [
    "study.best_params"
   ]
  },
  {
   "cell_type": "code",
   "execution_count": 240,
   "id": "settled-canyon",
   "metadata": {},
   "outputs": [],
   "source": [
    "clf_KNN = Pipeline(steps=[('Scaling', StandardScaler()),\n",
    "                          ('Kbest',SelectKBest(k=8)),\n",
    "                          ('KNN', KNeighborsClassifier(n_neighbors=89,\n",
    "                                                       weights='distance', )),\n",
    "                                                                            ])\n",
    "    "
   ]
  },
  {
   "cell_type": "code",
   "execution_count": 241,
   "id": "retired-parent",
   "metadata": {},
   "outputs": [
    {
     "data": {
      "text/plain": [
       "Pipeline(steps=[('Scaling', StandardScaler()), ('Kbest', SelectKBest(k=8)),\n",
       "                ('KNN',\n",
       "                 KNeighborsClassifier(n_neighbors=89, weights='distance'))])"
      ]
     },
     "execution_count": 241,
     "metadata": {},
     "output_type": "execute_result"
    }
   ],
   "source": [
    "clf_KNN.fit(X_train,y_train)"
   ]
  },
  {
   "cell_type": "code",
   "execution_count": 242,
   "id": "limiting-swing",
   "metadata": {},
   "outputs": [],
   "source": [
    "y_pred = clf_KNN.predict(X_test)"
   ]
  },
  {
   "cell_type": "code",
   "execution_count": 244,
   "id": "seeing-speaking",
   "metadata": {},
   "outputs": [
    {
     "data": {
      "text/plain": [
       "0.6228084789058657"
      ]
     },
     "execution_count": 244,
     "metadata": {},
     "output_type": "execute_result"
    }
   ],
   "source": [
    "roc_auc_score(y_test,y_pred)"
   ]
  },
  {
   "cell_type": "code",
   "execution_count": 245,
   "id": "brown-freeze",
   "metadata": {},
   "outputs": [
    {
     "data": {
      "text/plain": [
       "0    1692\n",
       "1     447\n",
       "Name: lluvia, dtype: int64"
      ]
     },
     "execution_count": 245,
     "metadata": {},
     "output_type": "execute_result"
    }
   ],
   "source": [
    "y_test.value_counts()"
   ]
  },
  {
   "cell_type": "code",
   "execution_count": 246,
   "id": "exempt-boulder",
   "metadata": {},
   "outputs": [
    {
     "data": {
      "text/plain": [
       "array([[1642,   50],\n",
       "       [ 324,  123]], dtype=int64)"
      ]
     },
     "execution_count": 246,
     "metadata": {},
     "output_type": "execute_result"
    }
   ],
   "source": [
    "confusion_matrix(y_test,y_pred)"
   ]
  },
  {
   "cell_type": "code",
   "execution_count": 247,
   "id": "complimentary-hunger",
   "metadata": {
    "scrolled": true
   },
   "outputs": [
    {
     "name": "stdout",
     "output_type": "stream",
     "text": [
      "              precision    recall  f1-score   support\n",
      "\n",
      "           0       0.84      0.97      0.90      1692\n",
      "           1       0.71      0.28      0.40       447\n",
      "\n",
      "    accuracy                           0.83      2139\n",
      "   macro avg       0.77      0.62      0.65      2139\n",
      "weighted avg       0.81      0.83      0.79      2139\n",
      "\n"
     ]
    }
   ],
   "source": [
    "print(classification_report(y_test,y_pred))"
   ]
  },
  {
   "cell_type": "markdown",
   "id": "differential-expert",
   "metadata": {},
   "source": [
    "Si aplicamos un algoritmo de clasificación tipo KNN obtenemos un modelo que funciona muy bien detectando los días que no llueve, y que cuando predice que va a llover acierta 2 de cada 3 veces. A continuación probaré con un algoritmo tipo random forest para ver si mejoramos la capacidad de detectar los días que llueve aunque perdamos precisión en la predicción en esa clase."
   ]
  },
  {
   "cell_type": "code",
   "execution_count": 226,
   "id": "injured-roberts",
   "metadata": {},
   "outputs": [],
   "source": [
    "# Optuna wrapper to optimize \n",
    "\n",
    "def objective(trial):\n",
    "    estimators = trial.suggest_int('n_estimators',100, 200, step=5)\n",
    "    depth = trial.suggest_int('max_depth',2,9,step=1)\n",
    "    \n",
    "        \n",
    "    clf_object = Pipeline(steps=[('RF', RandomForestClassifier(n_estimators=estimators, \n",
    "                                                                max_depth=depth,\n",
    "                                                                class_weight='balanced_subsample')),\n",
    "                                    ])\n",
    "    \n",
    "    folds = StratifiedKFold(n_splits=5,)\n",
    "    score = cross_val_score(clf_object,\n",
    "                            X=X_train, \n",
    "                            y=y_train, \n",
    "                            scoring='roc_auc',\n",
    "                            cv=folds)\n",
    "\n",
    "    return score.mean()\n",
    "        \n"
   ]
  },
  {
   "cell_type": "code",
   "execution_count": 227,
   "id": "vertical-density",
   "metadata": {},
   "outputs": [
    {
     "name": "stderr",
     "output_type": "stream",
     "text": [
      "\u001b[32m[I 2021-07-16 11:06:21,531]\u001b[0m A new study created in memory with name: no-name-d467caf4-7c01-4923-a1b3-96b20fa2d7a6\u001b[0m\n",
      "C:\\Users\\iukan\\anaconda3\\lib\\site-packages\\optuna\\progress_bar.py:47: ExperimentalWarning: Progress bar is experimental (supported from v1.2.0). The interface can change in the future.\n",
      "  self._init_valid()\n"
     ]
    },
    {
     "data": {
      "application/vnd.jupyter.widget-view+json": {
       "model_id": "42c477131d9f4fb79dbd77cb429e80ed",
       "version_major": 2,
       "version_minor": 0
      },
      "text/plain": [
       "  0%|          | 0/50 [00:00<?, ?it/s]"
      ]
     },
     "metadata": {},
     "output_type": "display_data"
    },
    {
     "name": "stdout",
     "output_type": "stream",
     "text": [
      "\u001b[32m[I 2021-07-16 11:06:25,661]\u001b[0m Trial 0 finished with value: 0.8440304520829367 and parameters: {'n_estimators': 175, 'max_depth': 7}. Best is trial 0 with value: 0.8440304520829367.\u001b[0m\n",
      "\u001b[32m[I 2021-07-16 11:06:28,470]\u001b[0m Trial 1 finished with value: 0.8369107446630016 and parameters: {'n_estimators': 135, 'max_depth': 5}. Best is trial 0 with value: 0.8440304520829367.\u001b[0m\n",
      "\u001b[32m[I 2021-07-16 11:06:33,337]\u001b[0m Trial 2 finished with value: 0.8457207517023912 and parameters: {'n_estimators': 190, 'max_depth': 8}. Best is trial 2 with value: 0.8457207517023912.\u001b[0m\n",
      "\u001b[32m[I 2021-07-16 11:06:36,721]\u001b[0m Trial 3 finished with value: 0.845442513796091 and parameters: {'n_estimators': 125, 'max_depth': 8}. Best is trial 2 with value: 0.8457207517023912.\u001b[0m\n",
      "\u001b[32m[I 2021-07-16 11:06:41,245]\u001b[0m Trial 4 finished with value: 0.8443889347684893 and parameters: {'n_estimators': 185, 'max_depth': 7}. Best is trial 2 with value: 0.8457207517023912.\u001b[0m\n",
      "\u001b[32m[I 2021-07-16 11:06:45,678]\u001b[0m Trial 5 finished with value: 0.8439474941236611 and parameters: {'n_estimators': 185, 'max_depth': 7}. Best is trial 2 with value: 0.8457207517023912.\u001b[0m\n",
      "\u001b[32m[I 2021-07-16 11:06:47,906]\u001b[0m Trial 6 finished with value: 0.8131462504239672 and parameters: {'n_estimators': 140, 'max_depth': 2}. Best is trial 2 with value: 0.8457207517023912.\u001b[0m\n",
      "\u001b[32m[I 2021-07-16 11:06:50,621]\u001b[0m Trial 7 finished with value: 0.8376812109077779 and parameters: {'n_estimators': 130, 'max_depth': 5}. Best is trial 2 with value: 0.8457207517023912.\u001b[0m\n",
      "\u001b[32m[I 2021-07-16 11:06:53,377]\u001b[0m Trial 8 finished with value: 0.8404800067129499 and parameters: {'n_estimators': 120, 'max_depth': 6}. Best is trial 2 with value: 0.8457207517023912.\u001b[0m\n",
      "\u001b[32m[I 2021-07-16 11:06:57,663]\u001b[0m Trial 9 finished with value: 0.8455168675754162 and parameters: {'n_estimators': 155, 'max_depth': 9}. Best is trial 2 with value: 0.8457207517023912.\u001b[0m\n",
      "\u001b[32m[I 2021-07-16 11:07:01,249]\u001b[0m Trial 10 finished with value: 0.8235971967013999 and parameters: {'n_estimators': 200, 'max_depth': 3}. Best is trial 2 with value: 0.8457207517023912.\u001b[0m\n",
      "\u001b[32m[I 2021-07-16 11:07:04,007]\u001b[0m Trial 11 finished with value: 0.8448495993954787 and parameters: {'n_estimators': 100, 'max_depth': 9}. Best is trial 2 with value: 0.8457207517023912.\u001b[0m\n",
      "\u001b[32m[I 2021-07-16 11:07:08,477]\u001b[0m Trial 12 finished with value: 0.845343946200831 and parameters: {'n_estimators': 160, 'max_depth': 9}. Best is trial 2 with value: 0.8457207517023912.\u001b[0m\n",
      "\u001b[32m[I 2021-07-16 11:07:13,008]\u001b[0m Trial 13 finished with value: 0.8445725248605005 and parameters: {'n_estimators': 155, 'max_depth': 9}. Best is trial 2 with value: 0.8457207517023912.\u001b[0m\n",
      "\u001b[32m[I 2021-07-16 11:07:17,415]\u001b[0m Trial 14 finished with value: 0.8448192421858511 and parameters: {'n_estimators': 170, 'max_depth': 8}. Best is trial 2 with value: 0.8457207517023912.\u001b[0m\n",
      "\u001b[32m[I 2021-07-16 11:07:22,536]\u001b[0m Trial 15 finished with value: 0.8447790785432312 and parameters: {'n_estimators': 200, 'max_depth': 8}. Best is trial 2 with value: 0.8457207517023912.\u001b[0m\n",
      "\u001b[32m[I 2021-07-16 11:07:25,497]\u001b[0m Trial 16 finished with value: 0.8445998735605604 and parameters: {'n_estimators': 105, 'max_depth': 9}. Best is trial 2 with value: 0.8457207517023912.\u001b[0m\n",
      "\u001b[32m[I 2021-07-16 11:07:28,264]\u001b[0m Trial 17 finished with value: 0.8314359489733842 and parameters: {'n_estimators': 145, 'max_depth': 4}. Best is trial 2 with value: 0.8457207517023912.\u001b[0m\n",
      "\u001b[32m[I 2021-07-16 11:07:32,671]\u001b[0m Trial 18 finished with value: 0.8415791698594516 and parameters: {'n_estimators': 190, 'max_depth': 6}. Best is trial 2 with value: 0.8457207517023912.\u001b[0m\n",
      "\u001b[32m[I 2021-07-16 11:07:36,937]\u001b[0m Trial 19 finished with value: 0.8448795165082545 and parameters: {'n_estimators': 165, 'max_depth': 8}. Best is trial 2 with value: 0.8457207517023912.\u001b[0m\n",
      "\u001b[32m[I 2021-07-16 11:07:40,665]\u001b[0m Trial 20 finished with value: 0.8444619855532098 and parameters: {'n_estimators': 150, 'max_depth': 7}. Best is trial 2 with value: 0.8457207517023912.\u001b[0m\n",
      "\u001b[32m[I 2021-07-16 11:07:43,722]\u001b[0m Trial 21 finished with value: 0.8441142333219211 and parameters: {'n_estimators': 115, 'max_depth': 8}. Best is trial 2 with value: 0.8457207517023912.\u001b[0m\n",
      "\u001b[32m[I 2021-07-16 11:07:46,853]\u001b[0m Trial 22 finished with value: 0.8444413140346467 and parameters: {'n_estimators': 120, 'max_depth': 8}. Best is trial 2 with value: 0.8457207517023912.\u001b[0m\n",
      "\u001b[32m[I 2021-07-16 11:07:50,415]\u001b[0m Trial 23 finished with value: 0.8452167248881484 and parameters: {'n_estimators': 130, 'max_depth': 9}. Best is trial 2 with value: 0.8457207517023912.\u001b[0m\n",
      "\u001b[32m[I 2021-07-16 11:07:55,041]\u001b[0m Trial 24 finished with value: 0.8451751610799386 and parameters: {'n_estimators': 175, 'max_depth': 8}. Best is trial 2 with value: 0.8457207517023912.\u001b[0m\n",
      "\u001b[32m[I 2021-07-16 11:07:57,577]\u001b[0m Trial 25 finished with value: 0.8414219347362376 and parameters: {'n_estimators': 110, 'max_depth': 6}. Best is trial 2 with value: 0.8457207517023912.\u001b[0m\n",
      "\u001b[32m[I 2021-07-16 11:08:01,069]\u001b[0m Trial 26 finished with value: 0.8455161863039317 and parameters: {'n_estimators': 125, 'max_depth': 9}. Best is trial 2 with value: 0.8457207517023912.\u001b[0m\n",
      "\u001b[32m[I 2021-07-16 11:08:05,038]\u001b[0m Trial 27 finished with value: 0.8452853794725261 and parameters: {'n_estimators': 145, 'max_depth': 9}. Best is trial 2 with value: 0.8457207517023912.\u001b[0m\n",
      "\u001b[32m[I 2021-07-16 11:08:10,187]\u001b[0m Trial 28 finished with value: 0.8446526925579695 and parameters: {'n_estimators': 190, 'max_depth': 9}. Best is trial 2 with value: 0.8457207517023912.\u001b[0m\n",
      "\u001b[32m[I 2021-07-16 11:08:14,120]\u001b[0m Trial 29 finished with value: 0.8448006562284658 and parameters: {'n_estimators': 160, 'max_depth': 7}. Best is trial 2 with value: 0.8457207517023912.\u001b[0m\n",
      "\u001b[32m[I 2021-07-16 11:08:19,221]\u001b[0m Trial 30 finished with value: 0.8449389692576517 and parameters: {'n_estimators': 180, 'max_depth': 9}. Best is trial 2 with value: 0.8457207517023912.\u001b[0m\n",
      "\u001b[32m[I 2021-07-16 11:08:22,450]\u001b[0m Trial 31 finished with value: 0.8450172712288178 and parameters: {'n_estimators': 125, 'max_depth': 8}. Best is trial 2 with value: 0.8457207517023912.\u001b[0m\n",
      "\u001b[32m[I 2021-07-16 11:08:25,893]\u001b[0m Trial 32 finished with value: 0.8446073936531133 and parameters: {'n_estimators': 135, 'max_depth': 8}. Best is trial 2 with value: 0.8457207517023912.\u001b[0m\n",
      "\u001b[32m[I 2021-07-16 11:08:28,366]\u001b[0m Trial 33 finished with value: 0.8427469497336583 and parameters: {'n_estimators': 100, 'max_depth': 7}. Best is trial 2 with value: 0.8457207517023912.\u001b[0m\n",
      "\u001b[32m[I 2021-07-16 11:08:31,024]\u001b[0m Trial 34 finished with value: 0.8441312149073834 and parameters: {'n_estimators': 110, 'max_depth': 7}. Best is trial 2 with value: 0.8457207517023912.\u001b[0m\n",
      "\u001b[32m[I 2021-07-16 11:08:34,701]\u001b[0m Trial 35 finished with value: 0.8449464261595093 and parameters: {'n_estimators': 135, 'max_depth': 9}. Best is trial 2 with value: 0.8457207517023912.\u001b[0m\n",
      "\u001b[32m[I 2021-07-16 11:08:37,948]\u001b[0m Trial 36 finished with value: 0.8447492936409441 and parameters: {'n_estimators': 125, 'max_depth': 8}. Best is trial 2 with value: 0.8457207517023912.\u001b[0m\n",
      "\u001b[32m[I 2021-07-16 11:08:41,085]\u001b[0m Trial 37 finished with value: 0.8419511104991905 and parameters: {'n_estimators': 140, 'max_depth': 6}. Best is trial 2 with value: 0.8457207517023912.\u001b[0m\n",
      "\u001b[32m[I 2021-07-16 11:08:44,028]\u001b[0m Trial 38 finished with value: 0.8431143922680638 and parameters: {'n_estimators': 120, 'max_depth': 7}. Best is trial 2 with value: 0.8457207517023912.\u001b[0m\n",
      "\u001b[32m[I 2021-07-16 11:08:47,196]\u001b[0m Trial 39 finished with value: 0.8372975744967992 and parameters: {'n_estimators': 150, 'max_depth': 5}. Best is trial 2 with value: 0.8457207517023912.\u001b[0m\n",
      "\u001b[32m[I 2021-07-16 11:08:49,545]\u001b[0m Trial 40 finished with value: 0.8140112026991003 and parameters: {'n_estimators': 140, 'max_depth': 2}. Best is trial 2 with value: 0.8457207517023912.\u001b[0m\n",
      "\u001b[32m[I 2021-07-16 11:08:53,935]\u001b[0m Trial 41 finished with value: 0.8448106535643969 and parameters: {'n_estimators': 160, 'max_depth': 9}. Best is trial 2 with value: 0.8457207517023912.\u001b[0m\n",
      "\u001b[32m[I 2021-07-16 11:08:58,676]\u001b[0m Trial 42 finished with value: 0.8450284305881348 and parameters: {'n_estimators': 175, 'max_depth': 9}. Best is trial 2 with value: 0.8457207517023912.\u001b[0m\n"
     ]
    },
    {
     "name": "stdout",
     "output_type": "stream",
     "text": [
      "\u001b[32m[I 2021-07-16 11:09:03,049]\u001b[0m Trial 43 finished with value: 0.8451353757238709 and parameters: {'n_estimators': 155, 'max_depth': 9}. Best is trial 2 with value: 0.8457207517023912.\u001b[0m\n",
      "\u001b[32m[I 2021-07-16 11:09:07,200]\u001b[0m Trial 44 finished with value: 0.8442547451782069 and parameters: {'n_estimators': 160, 'max_depth': 8}. Best is trial 2 with value: 0.8457207517023912.\u001b[0m\n",
      "\u001b[32m[I 2021-07-16 11:09:12,111]\u001b[0m Trial 45 finished with value: 0.8451944455073791 and parameters: {'n_estimators': 170, 'max_depth': 9}. Best is trial 2 with value: 0.8457207517023912.\u001b[0m\n",
      "\u001b[32m[I 2021-07-16 11:09:17,370]\u001b[0m Trial 46 finished with value: 0.8454525250743619 and parameters: {'n_estimators': 195, 'max_depth': 8}. Best is trial 2 with value: 0.8457207517023912.\u001b[0m\n",
      "\u001b[32m[I 2021-07-16 11:09:22,237]\u001b[0m Trial 47 finished with value: 0.8443453140115649 and parameters: {'n_estimators': 195, 'max_depth': 7}. Best is trial 2 with value: 0.8457207517023912.\u001b[0m\n",
      "\u001b[32m[I 2021-07-16 11:09:27,367]\u001b[0m Trial 48 finished with value: 0.8450486539153962 and parameters: {'n_estimators': 200, 'max_depth': 8}. Best is trial 2 with value: 0.8457207517023912.\u001b[0m\n",
      "\u001b[32m[I 2021-07-16 11:09:32,682]\u001b[0m Trial 49 finished with value: 0.8448699180178899 and parameters: {'n_estimators': 190, 'max_depth': 8}. Best is trial 2 with value: 0.8457207517023912.\u001b[0m\n"
     ]
    }
   ],
   "source": [
    "study = optuna.create_study(direction='maximize')\n",
    "study.optimize(objective, n_trials=50, show_progress_bar=True)"
   ]
  },
  {
   "cell_type": "code",
   "execution_count": 228,
   "id": "first-stone",
   "metadata": {},
   "outputs": [
    {
     "data": {
      "text/plain": [
       "FrozenTrial(number=2, values=[0.8457207517023912], datetime_start=datetime.datetime(2021, 7, 16, 11, 6, 28, 472648), datetime_complete=datetime.datetime(2021, 7, 16, 11, 6, 33, 337085), params={'n_estimators': 190, 'max_depth': 8}, distributions={'n_estimators': IntUniformDistribution(high=200, low=100, step=5), 'max_depth': IntUniformDistribution(high=9, low=2, step=1)}, user_attrs={}, system_attrs={}, intermediate_values={}, trial_id=2, state=TrialState.COMPLETE, value=None)"
      ]
     },
     "execution_count": 228,
     "metadata": {},
     "output_type": "execute_result"
    }
   ],
   "source": [
    "study.best_trial"
   ]
  },
  {
   "cell_type": "code",
   "execution_count": 229,
   "id": "experienced-python",
   "metadata": {},
   "outputs": [
    {
     "data": {
      "text/plain": [
       "0.8457207517023912"
      ]
     },
     "execution_count": 229,
     "metadata": {},
     "output_type": "execute_result"
    }
   ],
   "source": [
    "study.best_value"
   ]
  },
  {
   "cell_type": "code",
   "execution_count": 230,
   "id": "oriental-norman",
   "metadata": {},
   "outputs": [
    {
     "data": {
      "text/plain": [
       "{'n_estimators': 190, 'max_depth': 8}"
      ]
     },
     "execution_count": 230,
     "metadata": {},
     "output_type": "execute_result"
    }
   ],
   "source": [
    "study.best_params"
   ]
  },
  {
   "cell_type": "code",
   "execution_count": 231,
   "id": "hundred-worthy",
   "metadata": {},
   "outputs": [],
   "source": [
    "clf_RF = Pipeline(steps=[('RF', RandomForestClassifier(n_estimators=190, \n",
    "                                                       max_depth=8,\n",
    "                                                       class_weight='balanced_subsample'),\n",
    "                                                      )])\n",
    "    "
   ]
  },
  {
   "cell_type": "code",
   "execution_count": 232,
   "id": "operational-visiting",
   "metadata": {},
   "outputs": [],
   "source": [
    "clf_RF.fit(X_train,y_train)\n",
    "y_rf_pred = clf_RF.predict(X_test)"
   ]
  },
  {
   "cell_type": "code",
   "execution_count": 233,
   "id": "norman-ratio",
   "metadata": {},
   "outputs": [
    {
     "data": {
      "text/plain": [
       "0.752130039506878"
      ]
     },
     "execution_count": 233,
     "metadata": {},
     "output_type": "execute_result"
    }
   ],
   "source": [
    "roc_auc_score(y_test,y_rf_pred)"
   ]
  },
  {
   "cell_type": "code",
   "execution_count": 234,
   "id": "southwest-fellow",
   "metadata": {},
   "outputs": [
    {
     "data": {
      "text/plain": [
       "array([[1368,  324],\n",
       "       [ 136,  311]], dtype=int64)"
      ]
     },
     "execution_count": 234,
     "metadata": {},
     "output_type": "execute_result"
    }
   ],
   "source": [
    "confusion_matrix(y_test,y_rf_pred)"
   ]
  },
  {
   "cell_type": "code",
   "execution_count": 225,
   "id": "silver-argentina",
   "metadata": {},
   "outputs": [
    {
     "name": "stdout",
     "output_type": "stream",
     "text": [
      "              precision    recall  f1-score   support\n",
      "\n",
      "           0       0.90      0.82      0.86      1692\n",
      "           1       0.49      0.65      0.56       447\n",
      "\n",
      "    accuracy                           0.79      2139\n",
      "   macro avg       0.70      0.74      0.71      2139\n",
      "weighted avg       0.82      0.79      0.80      2139\n",
      "\n"
     ]
    }
   ],
   "source": [
    "print(classification_report(y_test,y_rf_pred))"
   ]
  },
  {
   "cell_type": "markdown",
   "id": "wound-elizabeth",
   "metadata": {},
   "source": [
    "Como habíamos visto en el notebook **02_EDA**, las clases están desbalanceadas, esto quiere decir que el número de días que llueve es mucho menor que el número de días que no llueve, en este caso en una proporción alrededor de 1 a 4. Por lo tanto el modelo tiende a ser más preciso prediciendo los días que no llueve.\n",
    "\n",
    "Además habíamos visto que hay mucha variabilidad en los datos y poca correlación entre variables, salvo algún parámetro con correlaciones medias.\n",
    "\n",
    "Para la predicción de el fenómeno lluvia voy a proponer el un modelo tipo Random Forest Classifier con 120 árboles y una profundidad máxima de 9. \n",
    "\n",
    "El modelo es capaz de detectar el 65% de los días que llueve y tiene se equivoca una vez de cada dos que predice lluvia.\n",
    "\n"
   ]
  },
  {
   "cell_type": "code",
   "execution_count": null,
   "id": "allied-knight",
   "metadata": {},
   "outputs": [],
   "source": []
  },
  {
   "cell_type": "markdown",
   "id": "utility-progress",
   "metadata": {},
   "source": [
    "## 5. Predicción de valores con librería prophet."
   ]
  },
  {
   "cell_type": "markdown",
   "id": "visible-luxembourg",
   "metadata": {},
   "source": [
    "En el último apartado, voy a crear"
   ]
  },
  {
   "cell_type": "code",
   "execution_count": null,
   "id": "polish-scheduling",
   "metadata": {},
   "outputs": [],
   "source": []
  },
  {
   "cell_type": "code",
   "execution_count": null,
   "id": "consistent-simulation",
   "metadata": {},
   "outputs": [],
   "source": []
  }
 ],
 "metadata": {
  "kernelspec": {
   "display_name": "Python 3",
   "language": "python",
   "name": "python3"
  },
  "language_info": {
   "codemirror_mode": {
    "name": "ipython",
    "version": 3
   },
   "file_extension": ".py",
   "mimetype": "text/x-python",
   "name": "python",
   "nbconvert_exporter": "python",
   "pygments_lexer": "ipython3",
   "version": "3.8.5"
  }
 },
 "nbformat": 4,
 "nbformat_minor": 5
}
